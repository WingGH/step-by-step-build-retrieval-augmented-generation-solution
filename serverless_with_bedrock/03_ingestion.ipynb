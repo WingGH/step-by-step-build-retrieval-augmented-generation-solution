{
 "cells": [
  {
   "cell_type": "markdown",
   "id": "429278b1-44cd-42a6-bb81-37c13b4dd11b",
   "metadata": {
    "tags": []
   },
   "source": [
    "#### Once we have embedded all content to vectors, we can save them to vector database"
   ]
  },
  {
   "cell_type": "markdown",
   "id": "1215a0d2-7406-4896-9a66-27442cc96e2f",
   "metadata": {},
   "source": [
    "Here we use pgvector from Amazon RDS"
   ]
  },
  {
   "cell_type": "code",
   "execution_count": 1,
   "id": "f4539555-6cd4-4e71-a8d4-dc43194321da",
   "metadata": {},
   "outputs": [
    {
     "name": "stdout",
     "output_type": "stream",
     "text": [
      "Looking in indexes: https://pypi.org/simple, https://pip.repos.neuron.amazonaws.com\n",
      "Requirement already satisfied: psycopg2-binary in /home/ec2-user/anaconda3/envs/python3/lib/python3.10/site-packages (2.9.7)\n",
      "Collecting psycopg2-binary\n",
      "  Downloading psycopg2_binary-2.9.9-cp310-cp310-manylinux_2_17_x86_64.manylinux2014_x86_64.whl (3.0 MB)\n",
      "\u001b[2K     \u001b[90m━━━━━━━━━━━━━━━━━━━━━━━━━━━━━━━━━━━━━━━━\u001b[0m \u001b[32m3.0/3.0 MB\u001b[0m \u001b[31m45.7 MB/s\u001b[0m eta \u001b[36m0:00:00\u001b[0ma \u001b[36m0:00:01\u001b[0m\n",
      "\u001b[?25hRequirement already satisfied: pgvector in /home/ec2-user/anaconda3/envs/python3/lib/python3.10/site-packages (0.2.2)\n",
      "Collecting pgvector\n",
      "  Downloading pgvector-0.2.3-py2.py3-none-any.whl (9.3 kB)\n",
      "Requirement already satisfied: tqdm in /home/ec2-user/anaconda3/envs/python3/lib/python3.10/site-packages (4.66.1)\n",
      "Requirement already satisfied: numpy in /home/ec2-user/anaconda3/envs/python3/lib/python3.10/site-packages (from pgvector) (1.22.3)\n",
      "Installing collected packages: psycopg2-binary, pgvector\n",
      "  Attempting uninstall: psycopg2-binary\n",
      "    Found existing installation: psycopg2-binary 2.9.7\n",
      "    Uninstalling psycopg2-binary-2.9.7:\n",
      "      Successfully uninstalled psycopg2-binary-2.9.7\n",
      "  Attempting uninstall: pgvector\n",
      "    Found existing installation: pgvector 0.2.2\n",
      "    Uninstalling pgvector-0.2.2:\n",
      "      Successfully uninstalled pgvector-0.2.2\n",
      "Successfully installed pgvector-0.2.3 psycopg2-binary-2.9.9\n"
     ]
    }
   ],
   "source": [
    "!pip install -U psycopg2-binary pgvector tqdm "
   ]
  },
  {
   "cell_type": "code",
   "execution_count": 9,
   "id": "cd86ff4b-2ea7-4002-8254-8f50574f9500",
   "metadata": {
    "tags": []
   },
   "outputs": [],
   "source": [
    "import psycopg2\n",
    "from pgvector.psycopg2 import register_vector\n",
    "import boto3 \n",
    "import json \n",
    "\n",
    "client = boto3.client('secretsmanager')\n",
    "\n",
    "response = client.get_secret_value(\n",
    "    SecretId='rdspg-vector-secret'\n",
    ")\n",
    "database_secrets = json.loads(response['SecretString'])"
   ]
  },
  {
   "cell_type": "code",
   "execution_count": 10,
   "id": "733d380c-bf15-4209-9a14-de295759bf0e",
   "metadata": {
    "tags": []
   },
   "outputs": [],
   "source": [
    "dbhost = database_secrets['host']\n",
    "dbport = database_secrets['port']\n",
    "dbuser = database_secrets['username']\n",
    "dbpass = database_secrets['password']\n",
    "\n",
    "dbconn = psycopg2.connect(host=dbhost, user=dbuser, password=dbpass, port=dbport, connect_timeout=10)\n",
    "dbconn.set_session(autocommit=True)\n",
    "\n",
    "cur = dbconn.cursor()\n",
    "cur.execute(\"CREATE EXTENSION IF NOT EXISTS vector;\")\n",
    "register_vector(dbconn)\n",
    "cur.execute(\"DROP TABLE IF EXISTS pdfembedding;\")"
   ]
  },
  {
   "cell_type": "code",
   "execution_count": 11,
   "id": "02110e40-4e62-45eb-9917-5d636e843225",
   "metadata": {
    "tags": []
   },
   "outputs": [],
   "source": [
    "cur.execute(\"\"\"CREATE TABLE IF NOT EXISTS pdfembedding(\n",
    "               id bigserial primary key, \n",
    "               content text, \n",
    "               pdf_file_name text, \n",
    "               page_number int, \n",
    "               pdf_file_path text, \n",
    "               content_embeddings vector(1536));\"\"\")"
   ]
  },
  {
   "cell_type": "code",
   "execution_count": 12,
   "id": "fef63447-ab22-42ac-a9b0-1b3d027afb07",
   "metadata": {
    "tags": []
   },
   "outputs": [],
   "source": [
    "data_file_name = \"./data/embedding.json\""
   ]
  },
  {
   "cell_type": "code",
   "execution_count": 13,
   "id": "2b9e535c-9c48-45b9-aea4-5dfae5d9736e",
   "metadata": {
    "tags": []
   },
   "outputs": [],
   "source": [
    "with open(data_file_name, 'r') as f:\n",
    "    data = json.load(f)"
   ]
  },
  {
   "cell_type": "markdown",
   "id": "5f103eee-7ea8-4c50-8dcb-5d6a1320f3ab",
   "metadata": {},
   "source": [
    "#### Check the embedding size equals to 1536"
   ]
  },
  {
   "cell_type": "code",
   "execution_count": 15,
   "id": "88a7c913-6417-4b93-b760-8226a942d48b",
   "metadata": {
    "tags": []
   },
   "outputs": [
    {
     "name": "stdout",
     "output_type": "stream",
     "text": [
      "True\n"
     ]
    }
   ],
   "source": [
    "print(len(data[0]['embedding']) == 1536)"
   ]
  },
  {
   "cell_type": "code",
   "execution_count": 16,
   "id": "0f1a9beb-b4ad-4169-b899-4cc58060c771",
   "metadata": {
    "tags": []
   },
   "outputs": [],
   "source": [
    "for item in data:\n",
    "    cur.execute(\"\"\"INSERT INTO pdfembedding\n",
    "                      (content, pdf_file_name, page_number, pdf_file_path, content_embeddings) \n",
    "                  VALUES(%s, %s, %s, %s, %s);\"\"\", \n",
    "                  (item.get('content'), item.get('pdf_file_name'), item.get('page_number'), item.get('pdf_file_path'), item.get('embedding') ))"
   ]
  },
  {
   "cell_type": "code",
   "execution_count": null,
   "id": "809eab1b-d0cb-418d-80c3-dfaba4425e2a",
   "metadata": {},
   "outputs": [],
   "source": []
  },
  {
   "cell_type": "code",
   "execution_count": 17,
   "id": "90fc4c17-20c7-465b-930b-f5de58392583",
   "metadata": {
    "tags": []
   },
   "outputs": [],
   "source": [
    "cur.execute(\"\"\"CREATE INDEX ON pdfembedding \n",
    "               USING ivfflat (content_embeddings vector_l2_ops) WITH (lists = 100);\"\"\")"
   ]
  },
  {
   "cell_type": "code",
   "execution_count": 18,
   "id": "cd564025-73f1-4436-a2f9-a8586552f965",
   "metadata": {
    "tags": []
   },
   "outputs": [],
   "source": [
    "cur.execute(\"VACUUM ANALYZE pdfembedding;\")"
   ]
  },
  {
   "cell_type": "code",
   "execution_count": 19,
   "id": "6bc1b9f4-2a73-4cf7-bc64-9f814776584d",
   "metadata": {
    "tags": []
   },
   "outputs": [
    {
     "data": {
      "text/plain": [
       "[(1,\n",
       "  '2022 ANNUAL REPORT\\n2022 ANNUAL REPORT',\n",
       "  'annual_report.pdf',\n",
       "  0,\n",
       "  './pdfs/annual_report.pdf',\n",
       "  array([ 0.07473046, -0.03020543, -0.0295342 , ...,  0.01029222,\n",
       "          0.03624651, -0.01622143], dtype=float32)),\n",
       " (2,\n",
       "  'This annual report (in both English and Chinese versions) \\nhas been posted on the Company’s website at www.mi.com and the Stock Exchange’s website at www.hkexnews.hk. Shareholders who have chosen to rely on copies of the corporate communications (including but not limited to annual report and \\n(where applicable) summary financial report, interim report and \\n(where applicable) summary interim report, notice of meeting, listing document, circular and proxy form) posted on the aforesaid websites in lieu of any or all the printed copies thereof may request the printed copy of the annual report.\\nShareholders who have chosen or are deemed to have consented \\nto receive the corporate communications using electronic means and who have difficulty in receiving or gaining access to the annual report posted on the Company’s website will promptly upon request be sent the annual report in printed form free of charge.\\nShareholders may at any time choose to change their choice of \\nmeans of receipt (in printed form or by electronic means through the Company’s website) and language (in English only, in Chinese only or in both Chinese and English) of all future corporate communications from the Company by sending reasonable prior notice in writing by post to the Hong Kong Share Registrar at 17M Floor, Hopewell Centre, 183 Queen’s Road East, Wan Chai, Hong Kong or by email at xiaomi.ecom@computershare.com.hk.',\n",
       "  'annual_report.pdf',\n",
       "  1,\n",
       "  './pdfs/annual_report.pdf',\n",
       "  array([ 0.06140886,  0.00222973, -0.05526797, ...,  0.00037467,\n",
       "          0.01886129, -0.00815129], dtype=float32)),\n",
       " (3,\n",
       "  'CONTENTS\\nCORPORATE INFORMATION\\nFIVE-YEAR FINANCIAL SUMMARY\\nCHAIRMAN’S STATEMENT\\nMANAGEMENT DISCUSSION AND ANALYSIS\\nDIRECTOR’S REPORT\\nCORPORATE GOVERNANCE REPORT\\nENVIRONMENTAL, SOCIAL AND GOVERNANCE REPORT\\nINDEPENDENT AUDITOR’S REPORT\\nCONSOLIDATED FINANCIAL STATEMENTS\\nDEFINITIONS4\\n68\\n163078\\n100178186326\\n',\n",
       "  'annual_report.pdf',\n",
       "  2,\n",
       "  './pdfs/annual_report.pdf',\n",
       "  array([ 0.04363358, -0.00046467, -0.01950104, ...,  0.00487526,\n",
       "          0.00652066, -0.01767282], dtype=float32))]"
      ]
     },
     "execution_count": 19,
     "metadata": {},
     "output_type": "execute_result"
    }
   ],
   "source": [
    "cur.execute(\"\"\"SELECT id, content, pdf_file_name, page_number, pdf_file_path, content_embeddings \n",
    "            FROM pdfembedding \n",
    "            limit 3;\"\"\",\n",
    "           )\n",
    "r = cur.fetchall()\n",
    "r"
   ]
  },
  {
   "cell_type": "code",
   "execution_count": 20,
   "id": "423b9f2d-cf29-48a2-b46c-57acbc384d7a",
   "metadata": {
    "tags": []
   },
   "outputs": [
    {
     "name": "stdout",
     "output_type": "stream",
     "text": [
      "Vector embeddings has been successfully loaded into PostgreSQL\n"
     ]
    }
   ],
   "source": [
    "cur.close()\n",
    "dbconn.close()\n",
    "print (\"Vector embeddings has been successfully loaded into PostgreSQL\")\n",
    "     "
   ]
  },
  {
   "cell_type": "markdown",
   "id": "12229aeb-c77b-4e93-9d48-ae380b70d88a",
   "metadata": {},
   "source": [
    "## Evaluate PostgreSQL vector Search Results\n",
    "\n",
    "In this step we will use SageMaker realtime inference to generate embeddings for the query and use the embeddings to search the PostgreSQL to retrive the nearest neighbours and retrive the relevent content."
   ]
  },
  {
   "cell_type": "code",
   "execution_count": 21,
   "id": "acb6edb4-89d6-4a08-9faa-926b67d3d3f0",
   "metadata": {
    "tags": []
   },
   "outputs": [],
   "source": [
    "dbconn = psycopg2.connect(host=dbhost, user=dbuser, password=dbpass, port=dbport, connect_timeout=10)\n",
    "dbconn.set_session(autocommit=True)\n",
    "cur = dbconn.cursor()"
   ]
  },
  {
   "cell_type": "markdown",
   "id": "a36c57d0-9240-4dda-b39a-a604a12611e2",
   "metadata": {},
   "source": [
    "#### The embedding model used for knowledge base (pdf) embedding should be the same for query embedding"
   ]
  },
  {
   "cell_type": "code",
   "execution_count": 22,
   "id": "a0db4ed9-d129-4b78-b0f8-7a7976c696c2",
   "metadata": {
    "tags": []
   },
   "outputs": [],
   "source": [
    "endpoint_name = \"jumpstart-dft-mx-tcembedding-robertafin-large-uncased-2\""
   ]
  },
  {
   "cell_type": "code",
   "execution_count": 23,
   "id": "b7683022-9d9e-46bf-b404-9e9eb67fa281",
   "metadata": {
    "tags": []
   },
   "outputs": [],
   "source": [
    "query = \"\"\"\n",
    "99\\n2022 ANNUAL REPORT\\nShareholders’ Rights\\nTo safeguard the Shareholders’ interests and rights, separate resolutions are proposed at the Shareholders’ meetings on \\neach substantial issue, including the election of individual directors, for the Shareholders’ consideration and voting. All resolutions put forward at the Shareholders’ meetings will be voted by poll pursuant to the Listing Rules and poll results will be posted on the websites of the Company (www.mi.com) and the Stock Exchange after each Shareholders’ meeting.\\nPursuant to the Articles of the Company, extraordinary general meetings shall be convened on the written requisition \\nof any one or more Shareholders holding, as of the date of deposit of the requisition, in aggregate shares representing not less than one-tenth of the paid up capital of the Company which carry the right of voting at general meetings of the Company. A written requisition shall be deposited at the principal office of the Company in Hong Kong to the Board or the joint company secretaries for the purpose of requiring an extraordinary general meeting to be called by the Board for the transaction of any business specified in such requisition. Such meeting shall be held within two months after the deposit of such requisition. If within 21 days of such deposit, the Board fails to proceed to convene such meeting, the requisitionist(s) themselves may convene the general meeting in the same manner, and all reasonable expenses \\nincurred by the requisitionist(s) as a result of the failure of the Board shall be reimbursed to them by the Company.\\nFor the avoidance of doubt, Shareholders must deposit and send the original duly signed written requisition, notice \\nor statement (as the case may be) to the Company’s principal place of business in Hong Kong and provide their full name, contact details and identification in order to give effect thereto. Shareholders’ information may be disclosed as required by law.\\nThere is no provision allowing the Shareholders to move new resolutions at general meetings under the Cayman \\nIslands Companies Law or the Articles. Shareholders who wish to move a resolution may request the Company to \\nconvene a general meeting following the procedures set out in the preceding paragraph.\\nWith respect to the Shareholders’ right in proposing persons for election as Directors, please refer to the procedures \\navailable on the website of the Company.\\nDuring the Reporting Period, the Company has amended its Memorandum and Articles of Association by way of a \\nspecial resolution passed on June 2, 2022. Details of the amendments are set out in the circular dated April 27, 2022 to the Shareholders.\\nThe up-to-date version of the Memorandum and Articles of Association is available on the websites of the Company \\nand the Stock Exchange.\\nEvents after the Reporting Period\\nSave as disclosed in this Corporate Governance Report, there has been no other significant event subsequent to the Reporting Period and up to the Latest Practicable Date that might affect the Group. \n",
    "\"\"\""
   ]
  },
  {
   "cell_type": "code",
   "execution_count": 27,
   "id": "3167c600-3e8e-428a-b5d7-995bb42d76de",
   "metadata": {
    "tags": []
   },
   "outputs": [],
   "source": [
    "from sklearn.preprocessing import normalize\n",
    "import numpy as np \n",
    "import boto3\n",
    "\n",
    "runtime_client = boto3.client('bedrock-runtime')\n",
    "embed_llm_id = \"amazon.titan-embed-text-v1\" \n",
    "\n",
    "\n",
    "def get_embedding(sent, bedrock_runtime, embed_llm_id):\n",
    "    body = json.dumps({\"inputText\": sent})\n",
    "    #claude_prompt = f\"\\n\\nHuman:{sent}\\n\\nAssistant:\"\n",
    "    #body = json.dumps({ \"prompt\": claude_prompt, \"temperature\": 0.5, \"top_p\": 1, \"top_k\": 250, \"max_tokens_to_sample\": 200, \"stop_sequences\": [\"\\n\\nHuman:\"] })\n",
    "    #print(body)\n",
    "    accept = \"application/json\"\n",
    "    contentType = \"application/json\"\n",
    "\n",
    "    response = bedrock_runtime.invoke_model(\n",
    "        body=body, modelId=embed_llm_id, accept=accept, contentType=contentType\n",
    "    )\n",
    "    response_body = json.loads(response.get(\"body\").read())\n",
    "    embedding = response_body.get(\"embedding\")\n",
    "\n",
    "    return np.squeeze(np.array(embedding).reshape(1, -1)).tolist()\n",
    "\n",
    "def chunk_words(sequence, chunk_size):\n",
    "    sequence = sequence.split()\n",
    "    return [' '.join(sequence[i:i+chunk_size]) for i in range(0, len(sequence), chunk_size)]\n",
    "\n",
    "def query_endpoint(payload, runtime_client,embed_llm_id):\n",
    "    embeddings = []\n",
    "    chunk_payload = chunk_words(payload, 400)\n",
    "    for i, chunk in enumerate(chunk_payload):\n",
    "        #print(\"Chunk \",i)\n",
    "        #print(\"Content \",chunk)\n",
    "        embeddings_chunk = get_embedding(chunk, runtime_client,embed_llm_id)\n",
    "        embeddings.append(embeddings_chunk)\n",
    "    return embeddings\n",
    "\n",
    "\n",
    "def parse_response(query_response, runtime_client,embed_llm_id):\n",
    "    \"\"\"Parse response and return the embedding.\"\"\"\n",
    "    embeddings = np.array(query_endpoint(query_response, runtime_client, embed_llm_id))\n",
    "    #avg_embeddings = np.mean(embeddings, axis=0)\n",
    "    # try max pooling of embedding vector\n",
    "    avg_embeddings = np.max(embeddings, axis=0)\n",
    "\n",
    "    avg_embeddings = avg_embeddings.reshape(1, -1)\n",
    "    # normalization before inner product\n",
    "    avg_embeddings = normalize(avg_embeddings, axis=1, norm='l2')\n",
    "    return np.squeeze(avg_embeddings)"
   ]
  },
  {
   "cell_type": "code",
   "execution_count": 28,
   "id": "2478176c-b875-420d-94bf-af4c3c80cac4",
   "metadata": {
    "tags": []
   },
   "outputs": [
    {
     "name": "stdout",
     "output_type": "stream",
     "text": [
      "1536\n"
     ]
    }
   ],
   "source": [
    "query_response = parse_response(query, runtime_client,embed_llm_id)\n",
    "print(len(query_response))"
   ]
  },
  {
   "cell_type": "code",
   "execution_count": 29,
   "id": "09da53f9-3f37-4c68-979a-514f1cf9fcd2",
   "metadata": {
    "tags": []
   },
   "outputs": [],
   "source": [
    "query_vector = query_response"
   ]
  },
  {
   "cell_type": "code",
   "execution_count": 30,
   "id": "e87244a0-f673-4373-aa40-f48dffbcf42c",
   "metadata": {
    "tags": []
   },
   "outputs": [
    {
     "name": "stdout",
     "output_type": "stream",
     "text": [
      "<class 'numpy.ndarray'>\n",
      "[ 0.06288187 -0.0086542  -0.02921784 ...  0.0128622   0.05716533\n",
      " -0.00952756]\n"
     ]
    }
   ],
   "source": [
    "print(type(query_vector))\n",
    "print(query_vector)"
   ]
  },
  {
   "cell_type": "markdown",
   "id": "eb037f85-7f6d-4327-8d24-eba5f90bd101",
   "metadata": {},
   "source": [
    "#### Let's extract the top 3 most relevant pages from our database"
   ]
  },
  {
   "cell_type": "code",
   "execution_count": 31,
   "id": "825d78e1-8b0f-498a-91f2-80d6f76010a6",
   "metadata": {
    "tags": []
   },
   "outputs": [],
   "source": [
    "# Execute the query\n",
    "cur.execute(\"\"\"\n",
    "    SELECT id, content, pdf_file_name, page_number, pdf_file_path, content_embeddings\n",
    "    FROM pdfembedding\n",
    "    ORDER BY content_embeddings <=> %s limit 5;\n",
    "    \"\"\", \n",
    "    (query_vector,)\n",
    ")"
   ]
  },
  {
   "cell_type": "code",
   "execution_count": 32,
   "id": "2995ccc8-e89f-4301-92d7-3d1b7700ded6",
   "metadata": {
    "tags": []
   },
   "outputs": [],
   "source": [
    "# Fetch the results\n",
    "results = cur.fetchall()"
   ]
  },
  {
   "cell_type": "code",
   "execution_count": 33,
   "id": "e668da32-da5e-42ac-900a-b07ca65a67ba",
   "metadata": {},
   "outputs": [
    {
     "data": {
      "text/plain": [
       "[(101,\n",
       "  '99\\n2022 ANNUAL REPORT\\nShareholders’ Rights\\nTo safeguard the Shareholders’ interests and rights, separate resolutions are proposed at the Shareholders’ meetings on \\neach substantial issue, including the election of individual directors, for the Shareholders’ consideration and voting. All resolutions put forward at the Shareholders’ meetings will be voted by poll pursuant to the Listing Rules and poll results will be posted on the websites of the Company (www.mi.com) and the Stock Exchange after each Shareholders’ meeting.\\nPursuant to the Articles of the Company, extraordinary general meetings shall be convened on the written requisition \\nof any one or more Shareholders holding, as of the date of deposit of the requisition, in aggregate shares representing not less than one-tenth of the paid up capital of the Company which carry the right of voting at general meetings of the Company. A written requisition shall be deposited at the principal office of the Company in Hong Kong to the Board or the joint company secretaries for the purpose of requiring an extraordinary general meeting to be called by the Board for the transaction of any business specified in such requisition. Such meeting shall be held within two months after the deposit of such requisition. If within 21 days of such deposit, the Board fails to proceed to convene such meeting, the requisitionist(s) themselves may convene the general meeting in the same manner, and all reasonable expenses \\nincurred by the requisitionist(s) as a result of the failure of the Board shall be reimbursed to them by the Company.\\nFor the avoidance of doubt, Shareholders must deposit and send the original duly signed written requisition, notice \\nor statement (as the case may be) to the Company’s principal place of business in Hong Kong and provide their full name, contact details and identification in order to give effect thereto. Shareholders’ information may be disclosed as required by law.\\nThere is no provision allowing the Shareholders to move new resolutions at general meetings under the Cayman \\nIslands Companies Law or the Articles. Shareholders who wish to move a resolution may request the Company to \\nconvene a general meeting following the procedures set out in the preceding paragraph.\\nWith respect to the Shareholders’ right in proposing persons for election as Directors, please refer to the procedures \\navailable on the website of the Company.\\nDuring the Reporting Period, the Company has amended its Memorandum and Articles of Association by way of a \\nspecial resolution passed on June 2, 2022. Details of the amendments are set out in the circular dated April 27, 2022 to the Shareholders.\\nThe up-to-date version of the Memorandum and Articles of Association is available on the websites of the Company \\nand the Stock Exchange.\\nEvents after the Reporting Period\\nSave as disclosed in this Corporate Governance Report, there has been no other significant event subsequent to the Reporting Period and up to the Latest Practicable Date that might affect the Group. ',\n",
       "  'annual_report.pdf',\n",
       "  100,\n",
       "  './pdfs/annual_report.pdf',\n",
       "  array([ 0.06288186, -0.0086542 , -0.02921784, ...,  0.0128622 ,\n",
       "          0.05716534, -0.00952756], dtype=float32)),\n",
       " (69,\n",
       "  '67\\n2022 ANNUAL REPORT\\nIn view of the Contractual Arrangements, we have applied to the Stock Exchange for, and the Stock Exchange \\nhas granted, a waiver from strict compliance with (i) the announcement, circular and independent shareholders’ approval requirements under Chapter 14A of the Listing Rules in respect of the transactions contemplated under the \\nContractual Arrangements pursuant to Rule 14A.105 of the Listing Rules, (ii) the requirement of setting an annual \\ncap for the transactions under the Contractual Arrangements under Rule 14A.53 of the Listing Rules, and (iii) the requirement of limiting the term of the Contractual Arrangements to three years or less under Rule 14A.52 of the Listing Rules, for so long as our Shares are listed on the Stock Exchange subject however to the following conditions:\\n(a) no change to the Contractual Arrangements without independent non-executive Directors’ approval;\\n(b) no change to the agreements governing the Contractual Arrangements without independent Shareholders’ \\napproval;\\n(c) the Contractual Arrangements shall continue to enable our Group to receive the economic benefits derived by  \\nthe Consolidated Affiliated Entities;\\n(d) the Contractual Arrangements may be renewed and/or reproduced without obtaining the approval of our  \\nShareholders: (i) upon the expiry of the existing arrangements, (ii) in connections with any changes to the Registered Shareholders or directors of the Consolidated Affiliated Entities, or (iii) in relation to any existing, newly established or acquired wholly foreign-owned enterprise or operating company (including branch \\ncompany), engaging in a business similar or relating to those of our Group when such renewal and/or \\nreproduction is justified by business expediency and on substantially the same terms and conditions as the existing Contractual Arrangements; and\\n(e) we will disclose details relating to the Contractual Arrangements on an on-going basis.\\n(6) Confirmation from Independent Non-executive Directors  \\nThe Company’s independent non-executive Directors have reviewed the Contractual Arrangements and confirmed that:\\n(i) the transactions carried out during the Reporting Period have been entered into in accordance with the  \\nrelevant provisions of the Contractual Arrangements;\\n(ii) no dividends or other distributions have been made by the Consolidated Affiliated Entities to the holders of  \\nits equity interests which are not otherwise subsequently assigned or transferred to the Group during the Reporting Period; and\\n(iii) any new contracts entered into, renewed or reproduced between the Group and the Consolidated Affiliated  \\nEntities during the Reporting Period are fair and reasonable, or advantageous to the Shareholders, so far as the Group is concerned and in the interests of the Shareholders as a whole.',\n",
       "  'annual_report.pdf',\n",
       "  68,\n",
       "  './pdfs/annual_report.pdf',\n",
       "  array([ 0.04144218,  0.00141122, -0.01164038, ...,  0.01954948,\n",
       "          0.04851173, -0.01121377], dtype=float32)),\n",
       " (59,\n",
       "  '57\\n2022 ANNUAL REPORT\\nPermitted Indemnity Provision\\nPursuant to the Articles of Association and subject to the applicable laws and regulations, every Director shall be \\nindemnified out of the assets of the Company against all losses or liabilities incurred or sustained by him as a Director in \\ndefending any proceedings, whether civil or criminal, in which judgement is given in his favour, or in which he is acquitted. \\nSuch permitted indemnity provision has been in force for the Reporting Period. The Company has taken out liability \\ninsurance for our Directors for the Reporting Period.\\nDirectors’ Rights to Acquire Shares or Debentures\\nSave as disclosed in this annual report, neither the Company nor its subsidiaries were a party to any arrangement that would enable the Directors to acquire benefits by means of acquisition of Shares in, or debentures of, the Company or any \\nother body corporate, and none of the Directors or any of their spouses or children under the age of 18 were granted any \\nright to subscribe for the equity or debt securities of the Company or any other body corporate or had exercised any such \\nright at any time during the Reporting Period.\\nDirectors’ Interests in Competing Business \\nLei Jun is a founding partner of Shunwei Capital (“ Shunwei”), which operates investment funds specializing in incubation, \\nstart-ups, early to mid-stage and growth capital investments in Internet and technology industries. While Shunwei may acquire non-controlling interests in certain business that operate in technology and Internet sectors similar to those \\nin which our Group operates, Shunwei is a pure financial investment company, and generally has no management or \\nshareholding control over any of its investee companies. We therefore do not believe that Shunwei competes in any material \\nway with our Group. Our Group is capable of carrying on the business independently, and at arm’s length from Shunwei. \\nLiu Qin, our non-executive Director, is a non-executive director of XPeng Inc. (Stock code: 9868), a smart electric vehicles \\ncompany in China. The Company is of the view that such competing interest will not result in any material conflict of \\ninterest because, in his capacity as a non-executive Director, Liu Qin does not participate in the day-to-day management \\nof XPeng Inc. Our Group is capable of carrying on the smart electric vehicles business independently, and at arm’s length \\nfrom XPeng Inc.\\nSave as disclosed in this annual report and except for the interests of the Controlling Shareholders in the Group, during \\nthe Reporting Period, neither the Controlling Shareholders nor any of the Directors had any interest in a business, apart \\nfrom the business of the Group, which competes or is likely to compete, directly or indirectly, with the Group’s business, \\nwhich would require disclosure under Rule 8.10 of the Listing Rules. ',\n",
       "  'annual_report.pdf',\n",
       "  58,\n",
       "  './pdfs/annual_report.pdf',\n",
       "  array([ 0.04974124, -0.01227987, -0.02331621, ...,  0.02114003,\n",
       "          0.03715049, -0.02020738], dtype=float32)),\n",
       " (99,\n",
       "  '97\\n2022 ANNUAL REPORT\\nCommunications with Shareholders and Investor Relations\\nThe Board believes that effective communication with the Shareholders is essential for enhancing investor relations \\nand investors’ understanding of the Group’s business performance and strategies. The Group also recognizes the importance of transparency and timely disclosure of its corporate information, which enables the Shareholders and \\ninvestors to make the best investment decision. In this respect, the terms of reference of the Company’s Corporate \\nGovernance Committee include, among others, seeking to ensure effective and on-going communication between the \\nCompany and the Shareholders.\\nGeneral meetings of the Company provide an opportunity for communication between the directors, senior \\nmanagement and the Shareholders. The Board welcomes views of the Shareholders and encourages them to attend general meetings to raise any concerns they might have with the Board or the management directly. Board members and appropriate senior management of the Company are available at such meetings to respond to enquiries raised by \\nthe Shareholders. To safeguard Shareholders’ interests and rights, a separate resolution will be proposed for each \\nissue at general meetings. \\nDuring the Reporting Period, the Company held an annual general meeting on June 2, 2022, whereby Shareholders \\nentitled to attend were only able to join via online webcast due to the COVID-19 pandemic (the “ Special Arrangement”). \\nNotice of the meeting was sent to the Shareholders on April 27, 2022, not less than 21 days before the date of the \\nannual general meeting. Notice of the Special Arrangement was published by the Company on the website of the Stock Exchange on May 23, 2022. The chairman of the Board and the chairmen of each of the Audit Committee, the Corporate Governance Committee, the Nomination Committee and the Remuneration Committee attended the \\nannual general meeting and were available to answer any questions raised by the Shareholders. A representative of \\nthe Auditor also attended to answer any questions about the conduct of the audit, the preparation and content of the auditors’ report, the accounting policies and auditor independence.\\nThe Company publishes in a timely manner both English and Chinese versions of (i) any corporate communication (as \\ndefined in the Listing Rules) of the Company that requires shareholder attention or action, and (ii) announcements \\nrelating to matters to be disclosed under the Listing Rules (including but not limited to those involving insider information, corporate actions and corporate transactions).\\nThe Company maintains a website at “ www.mi.com\\n ” as a communication platform with the Shareholders and  \\ninvestors, where information on the Company’s announcement, financial information and other information are \\navailable for public access. Shareholders and investors may send written enquiries or requests to the Company, for the attention of the Board of Directors, as follows:\\nAddress:  5/F, Manulife Place, 348 Kwun Tong Road, Kowloon, Hong Kong\\nEmail:  ir@xiaomi.com ',\n",
       "  'annual_report.pdf',\n",
       "  98,\n",
       "  './pdfs/annual_report.pdf',\n",
       "  array([ 0.06833682, -0.00343244, -0.03682075, ...,  0.00994628,\n",
       "          0.04243748, -0.01521196], dtype=float32)),\n",
       " (87,\n",
       "  '85\\n2022 ANNUAL REPORT\\n• Reviewed the remuneration, the terms of engagement and the re-appointment of the Company’s compliance \\nadvisor.\\n• Reviewed and monitored the management of conflicts of interests between the Group/the Shareholders on one  \\nhand and the WVR Beneficiaries on the other.\\n• Reviewed and monitored all risks related to the weighted voting rights structure, including connected  \\ntransactions between the Group/the Shareholders on one hand and the WVR Beneficiaries on the other.\\n• Reviewed the arrangement for the training and continuous professional development of Directors and senior  \\nmanagement (in particular, Chapter 8A of the Listing Rules and knowledge in relation to risks relating to the \\nweighted voting rights structure).\\n• Reviewed the written confirmation provided by the WVR Beneficiaries that they have been members of the Board \\nthroughout the Reporting Period and no matters under Rule 8A.17 of the Listing Rules have occurred during the Reporting Period; and they have complied with Rules 8A.14, 8A.15, 8A.18 and 8A.24 of the Listing Rules throughout the Reporting Period.\\n• Sought to ensure effective and on-going communication between the Company and its Shareholders, particularly  \\nwith regards to the requirements of Rule 8A.35 of the Listing Rules.\\n• Reviewed the Company’s compliance with the ESG Reporting Guide and disclosure in Environmental, Social and  \\nGovernance Report.\\n• Reviewed work performance and work plan of ESG team and provide guidance and supervision to the ESG team.\\n• Reported on the work of the Corporate Governance Committee covering all areas of its terms of reference.\\nIn particular, the Corporate Governance Committee has confirmed to the Board it is of the view that the Company \\nhas adopted sufficient corporate governance measures to manage the potential conflict of interest between the Group and the beneficiaries of weighted voting rights in order to ensure that the operations and management of the \\nCompany are in the interests of the Shareholders as a whole indiscriminately. These measures include the Corporate \\nGovernance Committee (a) reviewing and monitoring each transaction contemplated to be entered into by the Group and making a recommendation to the Board, prior to the transaction being entered into, of any potential conflict of interest between the Group and/or the Shareholders on one hand and any beneficiaries of the weighted voting rights, \\nand (b) ensuring that (i) any connected transactions are disclosed and dealt with in accordance with the requirements \\nof the Listing Rules, (ii) their terms are fair and reasonable and in the interest of the Company and its Shareholders as a whole, (iii) any directors who have a conflict of interest abstain from voting on the relevant board resolution, and ',\n",
       "  'annual_report.pdf',\n",
       "  86,\n",
       "  './pdfs/annual_report.pdf',\n",
       "  array([ 0.04138211, -0.0002494 , -0.01868107, ...,  0.02932218,\n",
       "          0.04232799, -0.00103455], dtype=float32))]"
      ]
     },
     "execution_count": 33,
     "metadata": {},
     "output_type": "execute_result"
    }
   ],
   "source": [
    "results"
   ]
  },
  {
   "cell_type": "code",
   "execution_count": 34,
   "id": "9bdbee99-55e9-4641-a4b5-f7871ae0ee54",
   "metadata": {
    "tags": []
   },
   "outputs": [],
   "source": [
    "cur.close()\n",
    "dbconn.close()"
   ]
  },
  {
   "cell_type": "code",
   "execution_count": null,
   "id": "b0561cab-df27-42be-875c-849cf4b39235",
   "metadata": {},
   "outputs": [],
   "source": []
  }
 ],
 "metadata": {
  "kernelspec": {
   "display_name": "conda_python3",
   "language": "python",
   "name": "conda_python3"
  },
  "language_info": {
   "codemirror_mode": {
    "name": "ipython",
    "version": 3
   },
   "file_extension": ".py",
   "mimetype": "text/x-python",
   "name": "python",
   "nbconvert_exporter": "python",
   "pygments_lexer": "ipython3",
   "version": "3.10.10"
  }
 },
 "nbformat": 4,
 "nbformat_minor": 5
}
