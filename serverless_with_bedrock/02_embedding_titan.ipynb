{
 "cells": [
  {
   "cell_type": "code",
   "execution_count": 1,
   "id": "b85022cb-22ab-4b32-96bc-24f38c2d3769",
   "metadata": {
    "tags": []
   },
   "outputs": [
    {
     "name": "stdout",
     "output_type": "stream",
     "text": [
      "Looking in indexes: https://pypi.org/simple, https://pip.repos.neuron.amazonaws.com\n",
      "Requirement already satisfied: botocore in /home/ec2-user/anaconda3/envs/python3/lib/python3.10/site-packages (1.31.73)\n",
      "Requirement already satisfied: boto3 in /home/ec2-user/anaconda3/envs/python3/lib/python3.10/site-packages (1.28.73)\n",
      "Requirement already satisfied: jmespath<2.0.0,>=0.7.1 in /home/ec2-user/anaconda3/envs/python3/lib/python3.10/site-packages (from botocore) (1.0.1)\n",
      "Requirement already satisfied: python-dateutil<3.0.0,>=2.1 in /home/ec2-user/anaconda3/envs/python3/lib/python3.10/site-packages (from botocore) (2.8.2)\n",
      "Requirement already satisfied: urllib3<2.1,>=1.25.4 in /home/ec2-user/anaconda3/envs/python3/lib/python3.10/site-packages (from botocore) (1.26.14)\n",
      "Requirement already satisfied: s3transfer<0.8.0,>=0.7.0 in /home/ec2-user/anaconda3/envs/python3/lib/python3.10/site-packages (from boto3) (0.7.0)\n",
      "Requirement already satisfied: six>=1.5 in /home/ec2-user/anaconda3/envs/python3/lib/python3.10/site-packages (from python-dateutil<3.0.0,>=2.1->botocore) (1.16.0)\n",
      "Note: you may need to restart the kernel to use updated packages.\n"
     ]
    }
   ],
   "source": [
    "pip install -U botocore boto3"
   ]
  },
  {
   "cell_type": "code",
   "execution_count": 2,
   "id": "a5fd6880-3441-47fc-87ad-0f51579d7656",
   "metadata": {
    "tags": []
   },
   "outputs": [],
   "source": [
    "import boto3\n",
    "import json"
   ]
  },
  {
   "cell_type": "code",
   "execution_count": 4,
   "id": "bcc8cf8b-eccf-4f5f-b085-a4a9d72bebba",
   "metadata": {
    "tags": []
   },
   "outputs": [],
   "source": [
    "import json\n",
    "import numpy as np\n",
    "\n",
    "def get_embedding(sent, bedrock_runtime, embed_llm_id):\n",
    "    body = json.dumps({\"inputText\": sent})\n",
    "    #claude_prompt = f\"\\n\\nHuman:{sent}\\n\\nAssistant:\"\n",
    "    #body = json.dumps({ \"prompt\": claude_prompt, \"temperature\": 0.5, \"top_p\": 1, \"top_k\": 250, \"max_tokens_to_sample\": 200, \"stop_sequences\": [\"\\n\\nHuman:\"] })\n",
    "    #print(body)\n",
    "    accept = \"application/json\"\n",
    "    contentType = \"application/json\"\n",
    "\n",
    "    response = bedrock_runtime.invoke_model(\n",
    "        body=body, modelId=embed_llm_id, accept=accept, contentType=contentType\n",
    "    )\n",
    "    response_body = json.loads(response.get(\"body\").read())\n",
    "    embedding = response_body.get(\"embedding\")\n",
    "\n",
    "    return np.squeeze(np.array(embedding).reshape(1, -1)).tolist()\n"
   ]
  },
  {
   "cell_type": "code",
   "execution_count": 6,
   "id": "3fb0079f-493e-4a2f-8a57-d45e3e00ad65",
   "metadata": {
    "tags": []
   },
   "outputs": [],
   "source": [
    "payload = \"\"\"\n",
    "99\\n2022 ANNUAL REPORT\\nShareholders’ Rights\\nTo safeguard the Shareholders’ interests and rights, separate resolutions are proposed at the Shareholders’ meetings on \\neach substantial issue, including the election of individual directors, for the Shareholders’ consideration and voting. All resolutions put forward at the Shareholders’ meetings will be voted by poll pursuant to the Listing Rules and poll results will be posted on the websites of the Company (www.mi.com) and the Stock Exchange after each Shareholders’ meeting.\\nPursuant to the Articles of the Company, extraordinary general meetings shall be convened on the written requisition \\nof any one or more Shareholders holding, as of the date of deposit of the requisition, in aggregate shares representing not less than one-tenth of the paid up capital of the Company which carry the right of voting at general meetings of the Company. A written requisition shall be deposited at the principal office of the Company in Hong Kong to the Board or the joint company secretaries for the purpose of requiring an extraordinary general meeting to be called by the Board for the transaction of any business specified in such requisition. Such meeting shall be held within two months after the deposit of such requisition. If within 21 days of such deposit, the Board fails to proceed to convene such meeting, the requisitionist(s) themselves may convene the general meeting in the same manner, and all reasonable expenses \\nincurred by the requisitionist(s) as a result of the failure of the Board shall be reimbursed to them by the Company.\\nFor the avoidance of doubt, Shareholders must deposit and send the original duly signed written requisition, notice \\nor statement (as the case may be) to the Company’s principal place of business in Hong Kong and provide their full name, contact details and identification in order to give effect thereto. Shareholders’ information may be disclosed as required by law.\\nThere is no provision allowing the Shareholders to move new resolutions at general meetings under the Cayman \\nIslands Companies Law or the Articles. Shareholders who wish to move a resolution may request the Company to \\nconvene a general meeting following the procedures set out in the preceding paragraph.\\nWith respect to the Shareholders’ right in proposing persons for election as Directors, please refer to the procedures \\navailable on the website of the Company.\\nDuring the Reporting Period, the Company has amended its Memorandum and Articles of Association by way of a \\nspecial resolution passed on June 2, 2022. Details of the amendments are set out in the circular dated April 27, 2022 to the Shareholders.\\nThe up-to-date version of the Memorandum and Articles of Association is available on the websites of the Company \\nand the Stock Exchange.\\nEvents after the Reporting Period\\nSave as disclosed in this Corporate Governance Report, there has been no other significant event subsequent to the Reporting Period and up to the Latest Practicable Date that might affect the Group. \n",
    "\"\"\""
   ]
  },
  {
   "cell_type": "markdown",
   "id": "48ba56e8-c87e-49e6-b41d-5adb2362c988",
   "metadata": {},
   "source": [
    "#### Maker sure the name of embedding model is correct"
   ]
  },
  {
   "cell_type": "code",
   "execution_count": 7,
   "id": "ca904411-bbf1-4417-89ee-d6c18644c8b4",
   "metadata": {
    "tags": []
   },
   "outputs": [
    {
     "name": "stdout",
     "output_type": "stream",
     "text": [
      "[0.6256718, -0.35734725, -0.40168443, -0.20735937, 0.15836485, 0.017136496, 0.2070499, -3.0146282e-05, 0.52878684, 0.021742512, -0.5155504, -0.21450788, 0.01923035, -0.046604425, 0.57468605, -0.08841933, 0.25399333, 0.2644805, 0.11539299, 0.5880897, -0.43819666, -0.48626593, 0.13130723, 0.15841928, 0.045008957, 0.46990693, 0.07960539, -0.31604704, -0.099142864, 0.15486836, -0.26730445, -0.4499403, -0.2720193, -0.10628982, 0.27215615, -0.2568546, -0.25047895, -0.21775478, 0.09435336, 0.08260973, 0.12849882, 0.129323, 1.1699343, -0.51922023, 0.13417394, -0.7264008, 0.46359974, -0.49007267, 0.14118151, -0.21333848, -0.24426502, 0.15219447, 0.57237756, -0.22197825, -0.2374291, 0.0017012078, -0.4369775, -0.12577751, 0.27849448, -0.08443844, 0.1128023, -0.19750589, -0.24649185, 0.04030031, -0.17576882, 0.06976513, 0.27214372, -0.23255873, 0.276983, -0.15666053, 0.1984599, -0.20750397, 0.38199145, -0.26036274, 0.3652966, -0.0009299114, 0.005312003, 0.16163665, 0.3942949, 0.24980098, -0.4007514, -0.090559065, -0.037819248, 0.120807625, 0.35056728, 0.49972633, 0.26388335, -0.022235459, 0.00013058049, -0.38226202, 0.24411574, -0.26301253, -0.16959843, 0.54461086, -0.15208095, -0.49307078, 0.024003532, -0.21133558, 0.14237908, 0.19372015, -0.21106191, -0.2519407, 0.1575438, 0.37226316, 0.25195312, -0.04080103, -0.08668548, -0.0792073, -0.20046279, 0.048442475, -0.07610812, 0.09870124, -0.39377242, -0.46787918, 0.0932866, 0.048070822, -0.50928044, -0.2766471, -0.21544088, -0.42657745, -0.6483131, -0.046190783, -0.053598974, 0.070803896, -0.16459121, -0.63554937, -0.32533836, 0.0186822, -0.15463276, -0.31458998, 0.17300084, 0.48843056, 0.4002787, 0.1164784, 0.48482287, -0.11575687, -0.29744726, -0.4795482, 0.21913877, -0.23713052, 0.029738504, -0.34491938, -0.15889356, -0.5731986, -0.2181964, 0.844061, 0.295208, -0.37995747, -0.61303246, 0.11865545, -0.4660878, -0.71175855, -0.011810496, 0.59832805, -0.03440361, 0.07736304, 0.4466547, 0.63047373, -0.35176155, 0.2688968, -0.33715665, -0.29030654, 0.34327728, 0.07003882, -0.27157146, 0.39224225, 0.80627984, 0.44048566, -0.6292048, -0.40218514, -0.5517454, -0.037582107, 0.43888086, 0.04586734, 0.076150104, 0.15209574, 0.6221139, 0.07320176, 0.07444268, -0.17250323, -0.015600119, 0.03059689, -0.11212431, 0.13448884, 0.6409733, -0.56644356, 0.49144107, -0.119526275, -0.39866143, 0.14998943, 0.20546377, -0.12755026, 0.29249603, -0.39485472, 0.12185727, 0.20827529, -0.15691337, -0.045730494, -0.63238955, -0.24088126, -0.26938197, 0.35534436, -0.03722134, 0.06208325, 0.018840814, -0.23839322, 0.007302448, 0.2970616, -0.42513436, 0.03648736, -0.078980274, -0.36211187, -0.14784037, 0.3698124, 0.067633174, 0.2420009, -0.15060833, 0.5259194, -0.059595194, 0.6220641, 0.013077853, 0.32523885, -0.5065685, -0.66316676, 0.046789475, 0.13768287, 0.49845743, -0.14813292, 0.1283962, -0.17272016, 0.16446058, -0.13645129, -0.553966, 0.43957752, 0.40296575, 0.19040947, -0.56527424, -0.10058127, 0.2361353, -0.061116017, -0.055822678, 0.16462854, 0.5391371, -0.22565591, 0.54096586, 0.12295979, 0.022747066, -0.18193297, -0.008362982, -0.3406648, 0.18573348, -0.3460888, -0.6324642, 0.072072804, -0.108326904, -0.14471786, -0.023849584, 0.19327852, 0.17526965, -0.09727061, -0.052684613, 0.1296278, -0.2316568, 0.0042359177, -0.051325515, -0.3815063, 0.050905652, 0.3870422, -0.06677946, -0.055446364, 0.000100099365, -0.19606514, 0.64249104, 0.2280289, -0.29918888, 0.10792727, -0.1769382, -0.015562803, -0.12980194, -0.29340416, 0.11078698, 0.09407967, 0.15128633, 0.14015228, 0.30703872, 0.79177445, -0.07402593, 0.060410038, -0.2501078, 0.08921552, 0.13238487, 0.2014518, 0.5297323, 0.4282071, -0.43682823, 0.007305559, 0.25177896, 0.19551155, 0.045257762, -0.040462032, 0.1047721, 0.052255422, 0.31269905, 0.48967457, -0.6287321, 0.12434067, 0.15323323, 0.060161225, -0.06380623, 0.06605792, 0.05507315, 0.21689641, -0.06136638, 0.43692774, -0.2846804, 0.023561902, -0.34932324, -0.9329718, -0.07563053, -0.013758957, -0.28469598, 0.22150864, 0.322502, 0.009762514, 0.0029296875, -0.18140426, 0.071257964, 0.416846, -0.50843453, 0.26601064, 0.5927299, 0.21057984, -0.12638088, -0.2936032, -0.46404755, -0.2541675, 0.13492425, 0.3012291, -0.09331459, -0.36073723, 0.38801253, 0.40539163, 0.1412408, 0.17648414, 0.08272091, 0.0022019297, 0.2186256, -0.72061604, 0.033215564, 0.46730694, -0.3086933, -0.44071272, -0.16865297, 0.037862014, -0.20392118, 0.02871218, 0.0060459822, 0.2581733, 0.056408927, 0.3728354, -0.25287217, -0.49290907, -0.38309863, -0.17594919, -0.0045096036, 0.38340965, 0.042572994, -0.19888286, -0.24079418, -0.64789015, 0.03347059, 0.77602506, -0.23426303, -0.06251245, 0.16786924, 0.23193671, 0.017607672, -0.07958363, 0.15222557, -0.23673867, 0.6773238, 0.18209781, -0.6339321, 0.206459, 0.24540953, -0.07461684, 0.110734105, 0.7538316, 0.09312799, -0.04080414, 0.30395353, 0.1819112, 0.19056031, -0.22772567, 0.08232981, 0.20365994, -0.22747065, 0.27190733, -0.03457156, 0.29592955, -0.13450438, 0.50980294, 0.12933855, 0.4177635, -0.28764433, 0.52930933, -0.2821457, -0.22278687, -0.08665748, -0.34726748, 0.47294238, 0.24683395, 0.061492335, 0.12029757, -0.0064378474, -0.18208848, -0.17884156, 0.19451943, -0.2288142, -0.20895328, -0.33795282, -0.13170531, 0.19957331, -0.04045892, 0.4819616, 0.2874173, 0.06629429, 0.1877799, 0.07062817, -0.2900453, -0.005469839, -0.38153118, 0.01676562, -0.31736416, 0.050644405, 0.38440487, -0.14963177, 0.31837803, -0.5262739, 0.10808122, -0.29159877, 0.16551802, -0.11566979, -0.73447454, 0.13874808, -0.060086586, 0.027405951, 0.10320462, 0.09510599, 0.3000535, -0.61136544, -0.4732285, 0.050115693, -0.5319218, -0.16028066, -0.32853553, 0.11247263, -0.013359313, 0.36267167, -0.19499062, 0.107599154, 0.14254081, 0.56175363, 0.16339073, -0.0057349745, -0.16556779, -0.13112062, -0.10735968, 0.30106115, 0.15106124, -0.629802, 0.28916824, -0.43032196, -0.44967282, 0.1491606, -0.27711985, 0.88507664, 0.61984974, 0.4817874, 0.09563781, -0.093019135, 0.14135276, -0.31773734, -0.5633708, -0.15577728, 0.30369228, 0.1926285, 0.25536177, 0.065336384, -0.19867139, -0.37514928, 0.31105694, 0.2523481, 0.18932873, -0.5279098, -0.07379578, -0.00014291752, 0.0936256, -0.2615718, -0.29895252, 0.2917869, 0.004487834, -0.2508335, -0.30695164, 0.08412899, 0.1164162, -0.06787421, -0.22817974, -0.20416999, -0.1481887, -0.17446297, -0.351096, -0.18843924, 0.3171029, -0.2724796, 0.10709065, 0.22169058, -0.19992784, 0.513137, 0.16707304, 0.43298107, -0.3390227, -0.037028514, -0.100617036, -0.031206459, -0.071893975, -0.5988754, 0.06587443, -0.08610544, 0.56043494, 0.32141346, 0.011221139, -0.400627, -0.037955314, -0.089171976, 0.06934215, 0.4171788, 0.19715366, 0.007930683, -0.31705314, 0.16148737, 0.067351714, -0.16364574, 0.17198697, -0.13467933, -0.42807028, -0.03386246, 0.10550607, -0.099904835, 0.5731986, -0.0448519, 0.07219254, -0.34743235, 0.6700339, 0.08912221, -0.11670233, 0.29024434, 0.1158906, -0.43692777, -0.7831658, -0.086674586, -0.33135948, 0.11483007, 0.7740844, 0.024109276, -0.05319467, -0.1537495, -0.3665655, -0.21782942, 0.25686705, 0.36170134, 0.25942352, -0.19709146, 0.1302774, -0.13819915, -0.60286874, 0.42667696, 0.26755327, 0.16037843, 0.33828872, 0.04617057, 0.6037271, -0.36280853, 0.5394108, 0.0390936, 0.046551555, -0.12804165, -0.032693077, -0.183855, -0.3981514, 0.589172, -0.21958351, 0.096169636, 0.23537022, -0.27302697, 0.27877438, 0.23923293, -0.2900826, -0.11202478, -0.5659335, -0.23709942, -0.31327128, 0.019462828, 0.3226575, 0.47327828, -0.32344747, -0.038359623, -0.37149182, 0.64716864, -0.03372562, -0.03204618, -0.30626118, -0.15344629, 0.42765975, 0.19843501, 0.03748375, -0.19749577, -0.38475862, -0.51749104, -0.15741938, 0.023786994, -0.376625, 0.01736664, -0.046613753, 0.19632483, -0.075780004, -0.33086187, -0.70956904, 0.5453448, 0.18911102, -0.676764, 0.1864457, 0.16637017, -0.088276275, 0.08922174, 0.008347433, -0.15614426, -0.62878186, 0.35389194, 0.33214945, 0.5513535, 0.24063247, 0.117828175, -0.39356092, 0.4394407, 0.15469496, 0.4201085, -0.75495124, -0.59392416, 0.24063559, -0.05367984, -0.055185117, 0.120621026, -0.041497685, 0.33488008, 0.30121666, 0.3246044, -0.40160355, -0.34862658, -0.1636924, -0.029209794, -0.084964044, 0.55154014, 0.14577527, 0.5626991, -0.635002, 0.17095442, -0.40061456, -0.14408185, -0.1627687, -0.05285703, -0.74028414, 0.42287022, 0.26791888, -0.59714615, 0.54953724, -0.48492238, -0.35908887, 0.25303543, 0.5404309, 0.8346437, 0.08999925, 0.10408166, -0.35922572, -0.3709942, 0.22067824, 0.18395764, -0.00997089, -0.3436878, -0.18156599, 0.11422049, -0.3938346, -0.31868282, 0.22108877, 0.036969423, -0.4114687, -0.13175197, 0.7609848, 0.16388212, -0.29918888, 0.35055485, 0.40382415, -0.077142216, -0.07018499, -0.046193898, -0.17030753, 0.16518834, -0.15883291, -0.17408937, -0.18369639, -0.22141844, -0.07779067, 0.28073996, -0.25687948, -0.5255275, -0.13791652, 0.20152175, -0.26946282, 0.01701039, 0.09411077, 0.26443696, 0.39393413, 0.2940013, 0.6807076, 0.05813346, -0.1288907, 0.1575811, 0.4406474, -0.0075699147, -0.08971313, 0.069877096, -0.8441232, 0.016181704, 0.19814889, -0.12699667, -0.24146597, 0.48627838, 0.65625, -0.09371579, 0.15641172, 0.58280253, -0.13616516, 0.55009705, 0.18511146, -0.3278886, 0.26890925, -0.16717257, -0.20427728, 0.33766437, -0.12911773, 0.51536375, -0.40259257, -0.034557562, 0.6660156, -0.00967971, 0.41990945, 0.10816518, -0.54590464, 0.09191739, -0.02527244, -0.06421987, 0.32675657, -0.052448247, -0.24253583, -0.4330713, -0.2882601, 0.040474474, -0.072688594, -0.4688495, -0.08063172, 0.4582504, -0.14872985, -0.44748956, 0.00692302, 0.087676026, 0.11530668, 0.25663066, -0.23388983, 0.1223751, 0.14379728, -0.06745123, 0.16874005, -0.39828822, 0.21771124, 0.042639084, -0.1439279, 0.26511496, 0.20872314, -0.5869452, 0.3413366, 0.6425906, 0.576458, 0.39826334, -0.013907462, 0.36483628, 0.00950438, -0.15816891, 0.12036599, -0.009236913, -0.014533365, 0.044363618, -0.40978307, -0.047254432, -0.15330166, 0.4886047, -0.07007613, 0.086578175, 0.09987373, -0.11744875, -0.09348254, -0.30191332, 0.29704064, 0.23178275, 0.9463575, -0.42846838, -0.021024086, 0.05507937, -0.37547272, 0.15950936, 0.21481265, 0.22040455, -0.60842955, -0.01862933, -0.21776722, 0.06468638, 0.0015229633, 0.43738803, 0.34781796, 0.53640026, 0.40821558, 0.28398687, 0.22979698, -0.14739874, 0.25742063, 0.29513338, -0.045574993, -0.23288217, 0.27855045, 0.13340963, 0.17514057, -0.048753485, 0.0032313643, 0.1026448, 0.152605, 0.31999525, -0.17552, -0.26378384, -0.24753682, 0.41049212, -0.2969745, -0.11283651, 0.21277244, 0.7659485, -0.4579798, 0.36704445, 0.25329357, -0.019574791, 0.14793989, 0.29321447, -0.3721512, 0.76980495, -0.057026275, 0.28521493, 0.38386992, -0.3734947, 0.53459644, 0.567274, 0.021782942, 0.45159483, 0.047186006, -0.35191083, -0.07696806, -0.5535803, -0.18058321, 0.07313645, -0.015943782, 0.43933496, -0.62649286, 0.03207728, -0.15290979, -0.9665605, -0.2805036, 0.68254876, -0.5846437, 0.3406275, 0.41831708, 0.22297037, -0.15323323, 0.3999552, 0.24999069, -0.005571693, -0.20265849, -0.34792995, 0.27126044, -0.27962032, -0.19938204, 0.18466361, 0.026939444, -0.5590665, -0.6342058, -0.23084196, 0.020168815, 0.058686275, -0.43682823, -0.5599373, 0.03854001, -0.49007267, 0.048510898, -0.033305757, -0.45984277, 0.26434365, 0.067032926, 0.32200438, -0.3669138, -0.33774137, 0.5757116, -0.047763705, 0.39301354, -0.60653865, -0.12208587, 0.079263285, 0.100047894, 0.13816804, 0.19032395, 0.08008046, -0.017503483, 0.88552445, 0.9744601, 0.024687748, 0.027533464, -0.27434877, -0.038732056, 0.39455613, -0.027974319, -0.21975766, -0.027062288, -0.44887042, 0.2849821, -0.1794076, -0.02523512, -0.14253458, -0.00048624026, -0.16976015, 0.13518238, -0.73106587, 0.05774781, -0.06601438, 0.25857136, -0.019705413, 0.054297186, -0.08636668, 0.2674848, -0.04698696, 0.00021206803, -0.42252812, -0.23529248, 0.34457195, -0.039149582, 0.12715839, 0.07958052, 0.18818733, -0.62268615, 0.07782643, 0.23844609, -0.2152022, -0.13327125, 0.6285579, 0.17813869, -0.9958698, 0.24945264, -0.080892965, -0.13128701, 0.0867088, -0.36820763, 0.1210129, -0.1138224, -0.34844, -0.36350518, 0.1572079, -0.3576147, -0.32709247, -0.6086162, 0.2118954, 0.13615894, -0.50719047, 0.70093554, 0.013329767, -0.18152866, -0.29321757, -1.0442128, 0.3359748, -0.6408365, 0.22711919, -0.567302, -0.051428143, 0.8439988, -0.76985466, -0.20662072, -0.17647791, -0.6562749, -0.36420184, 0.15069698, 0.2769612, -0.41309214, 0.7942128, -0.008397194, 0.060870323, -0.45892838, 0.085104, 0.45140827, -0.23305634, 0.22114632, -0.033728726, 0.04249291, 0.042849183, -0.3422696, -0.86736166, -0.113492735, -0.75549865, 0.028003085, -0.069741026, 0.053281747, -0.275316, 0.2752911, -0.28595245, 0.118332006, 0.06938181, 0.15932587, -0.51604795, -0.3924413, 0.47214618, -0.058158338, -0.2552871, -0.42424488, -0.1275005, 0.41100222, -0.22133759, 0.21472245, 0.19777568, 0.32916376, 0.16702329, 0.15388946, 0.21231216, 0.17501618, -0.23405156, 0.22026771, 0.21621218, 0.03427299, 0.002289693, -0.24614352, 0.057069816, -0.13953958, 0.29439938, -0.0671931, 0.48101613, -0.735619, 0.14575973, 0.0669163, 0.17154534, 0.22096749, 0.51525176, -0.17873582, -0.27366143, 0.3430658, 0.380962, 0.5501593, 0.21114899, 0.3847594, 0.100106984, -0.30683967, -0.20539302, -0.33576334, 0.15165798, 0.20906524, 0.011507265, -0.037456926, 0.15763864, -0.0651249, 0.08792328, -0.4005026, -0.08060683, 0.21048655, 0.41289312, 0.1878421, 0.108193174, -0.11006543, 0.6042372, -0.5310883, 0.3052722, -0.021274446, -0.06071482, -0.09816008, 0.5942725, -0.17212225, -0.7866242, 0.17668316, -0.17338338, -0.45384654, 0.299475, 0.7711485, 0.54941285, 0.317924, -0.06299761, 0.43931627, 0.010191705, 0.0025502592, 0.10305845, -0.4282444, -0.10554028, 0.39782792, -0.3959992, -0.031585887, 0.22200315, 0.30188844, 0.5178238, -0.08876145, -0.2587953, -0.36661524, -1.1640128, -0.25549862, -0.36198437, -0.048840567, 0.25248808, -0.137983, -0.095976815, -0.1769382, 0.10776088, -0.60441136, 0.41479647, -0.0610025, -0.6631295, 0.10064503, 0.3199082, -0.16396298, -0.41673717, -0.37129903, -0.40805385, 0.0631951, 0.06844335, -0.13827379, 0.016655989, 0.113758646, -0.01786425, 0.036162358, 0.16335963, 0.033644754, 0.39829445, -0.22942688, -0.07519843, 0.28795534, 0.24932511, 0.31195262, 0.15692799, -0.23212332, -0.120726764, -0.29283193, 0.1718128, 0.028593998, 0.08755474, -0.28338975, 0.029244004, 0.27853802, 0.4730295, 0.23197404, -0.12516794, -0.276207, -0.16961087, 0.35910133, -0.2604685, 0.16275626, 0.48454916, 0.19338581, 0.46108058, 0.36751097, -0.41471875, 0.5655106, -0.15932275, 0.25098667, -0.12621915, -0.20242213, -0.28771895, -0.15620025, 0.38215315, -0.35078344, -0.5674263, -0.079107784, 0.042377837, -0.066165216, -0.012160383, 0.082986824, -0.33009055, 0.13753176, -0.23216686, 0.6404757, -0.3469347, 0.023079844, 0.3385624, 0.48111564, 0.14401498, 0.3079344, 0.5985022, 0.5724025, -0.21132314, -0.05020278, -0.4454929, 0.52774185, -0.4375995, -0.1320101, -0.39425758, 0.16689889, 0.22840366, 0.18998806, 0.32834893, -0.9401125, 0.26298767, 0.052361168, 0.04794798, -0.79607886, -0.47170457, -0.58638537, 0.3522654, 0.10518885, 0.44256943, 0.026360968, -0.0054923855, 0.4322875, 0.48910233, -0.24384207, 0.5294088, -0.508534, -0.6932972, -0.33986244, 0.04553767, 0.5301055, 0.50999385, 0.1136669, 0.26128334, -0.051253982, -0.57842356, -0.6695113, -0.060683727, -0.37114352, 0.029256444, -0.29494676, -0.4263784, 0.0040975194, -0.3576707, 0.09867635, -0.12356937, 0.2730954, 0.002289012, 0.67187506, 0.25411776, -0.028936107, -0.10938122, 0.899582, -0.080998704, 0.03664403, 0.09354162, 0.41493332, -0.38140053, -0.5881519, -0.14280206, 0.115523614, -0.10913553, -0.51696855, -0.08498738, 0.4823099, -0.47749552, -0.0017291978, -0.31007415, -0.07986665, 0.23983628, -0.49492437, -0.23912098, -0.0035427606, 0.5853777, -0.0909696, -0.14395326, 0.28045383, 0.62689096, -0.13121082, -0.17498507, 0.45700637, -0.40811604, -0.024412507, 0.37326148, 0.19893107, -0.12874453, -0.22817974, -0.23319317, 0.23328649, -1.0028365, -0.21360594, -0.2408875, 0.6622462, 0.1030429, -0.18959619, 0.6910082, 0.044483356, -0.383957, 0.43142915, -0.18356265, -0.02147349, 0.10655106, -0.022149932, -0.103515625, -0.0017431951, 0.63965464, 0.14073697, -0.438545, -0.04866407, 0.121690884, -0.395371, -0.10485296, 0.77730644, -0.1472137, -0.051857334, 0.44180435, 0.055023387, -0.6528911, 0.12310907, 0.13092157, -0.7794337, 0.06830339, 0.37559712, 0.04784534, 0.19207802, -0.18407893, 0.48448697, 0.4242822, 0.34737015, 0.25379428, -0.2851687, -0.27089968, 0.4135649, -0.17528364, -0.19824842, -0.1956546, -0.568434, -0.3921054, 0.17012092, 0.034982093, 0.0686144, 0.36071232, 0.7451483, -0.2905802, 0.24060759, -0.32943124, -0.21954617, 0.20354797, -0.44923744, 0.5607086, 1.0696657, -0.065230645, 0.49313295, 0.65629977, -0.43584546, 0.02587716, -0.6394059, -0.12993763, 0.3437127, -0.07171825, -0.33317578, 0.19373882, 0.03253135, 0.22182897, -0.15219447, 0.046369612, -0.064067475, 0.034577776, -0.046481576, -0.03223434, 0.095317475, -0.3028961, -0.070635945, -1.1298268, -0.17739849, 0.0983809, -0.14565243, 0.97004384, 0.14830376, 0.017829288, -0.00038098358, -0.13659436, 0.96367437, 0.11560136, 0.118045874, -0.0136843175, -0.60571754, -0.6643362, -0.058201883, -0.3520228, 0.10903911, -0.26030058, 0.16254479, 0.12125548, -0.29344147, 0.43353155, -0.061665725, -0.23135823, 0.4915655, -0.30986887, -0.43203872, -0.16712281, -0.098838076, -0.046240546, -0.04673816, -0.16860321, -0.05619899, -0.10443621, -0.28204617, 0.4809788, -0.09758161, -0.2726911, 0.04205439, 0.09464726, -0.061854664, -0.57053643, -0.2590192, -0.59574044, -0.032394506, -0.3612908, -0.13022493, -0.66953623, -0.22962281, -0.0035268217, -0.1810155, 0.99472535, -0.81008655, 0.49863157, -0.07321109, 0.029636651, -0.21398538, 0.48668268, 0.50631964, 0.759579, -0.82921976, 0.097309485, -0.49236166, -0.30050758, -0.018573347, -0.3100975, 0.048257623, 0.3210527, -0.5231887, 0.27400976, 0.23842432, -0.3921054, -0.017839372, 0.20878533, -0.2512938, 0.5306031, 0.21703713, 0.45461783, -0.1826545, -0.49732533, -0.1874969, 0.38082206, 0.27883038, 0.00048283907, 0.10438023, 0.14458102, 0.109807305, -0.36659038, -0.09398636, 0.10531947, 0.14714372, -0.45158243, -0.27878684, -0.10818695, 0.11924948, -0.18827751, 0.28630078, -0.18330762, 0.14331833, 0.0053182226, -0.4439503, -0.12344496, 0.061479896, 0.02861888, 0.0642914, 0.13934365, 0.3912968, 0.108852506, -0.22082752, -0.32521397, -0.20543268, 0.22707878, 0.31466928, -0.03549214, -0.02512938, 0.31526798, -0.4664361, -0.36071855, 0.018815935, 0.36253482, -0.19634505, -0.08938657, -0.14966908, -0.4730419, 0.37614453, 0.6361714, 0.060574867, 0.3696507, -0.572502, 0.32075414, 0.049644522, -0.2185012, -0.048709944, -0.46418443, -0.30359277, 0.5179513, 0.15687202, -0.09513554, -0.17360419, -0.13664411, 0.5189839, -0.25906277, -0.13128234, 0.06551055, -0.040589545, -0.6675831, -0.1720616, 0.6799612, 0.62594545, -0.044057276, -0.33728105, -0.18224709, 0.09164448, -0.45429438, -0.07445511, -0.09003657, 0.21756817, 0.7525627, -0.13675606]\n"
     ]
    }
   ],
   "source": [
    "import boto3\n",
    "\n",
    "runtime_client = boto3.client('bedrock-runtime')\n",
    "embed_llm_id = \"amazon.titan-embed-text-v1\" \n",
    "#embed_llm_id = \"amazon.titan-embed-g1-text-02\" \n",
    "embedding = get_embedding(payload, runtime_client,embed_llm_id)\n",
    "print(embedding)"
   ]
  },
  {
   "cell_type": "code",
   "execution_count": null,
   "id": "fe3e936b-b0ad-4043-afba-05e01af472ba",
   "metadata": {
    "tags": []
   },
   "outputs": [],
   "source": []
  },
  {
   "cell_type": "markdown",
   "id": "f9128226-cbd3-46da-b342-f01883ca63bc",
   "metadata": {},
   "source": [
    "#### Please note that certain embedding models may have a shorter input token size, please make sure that the chunk size is relevant to your embedding model"
   ]
  },
  {
   "cell_type": "code",
   "execution_count": 18,
   "id": "e963a51f-c5fc-4396-be2e-f6418e63bc05",
   "metadata": {
    "tags": []
   },
   "outputs": [],
   "source": [
    "def chunk_words(sequence, chunk_size):\n",
    "    sequence = sequence.split()\n",
    "    return [' '.join(sequence[i:i+chunk_size]) for i in range(0, len(sequence), chunk_size)]\n",
    "\n",
    "def query_endpoint(payload, runtime_client,embed_llm_id):\n",
    "    embeddings = []\n",
    "    chunk_payload = chunk_words(payload, 400)\n",
    "    for i, chunk in enumerate(chunk_payload):\n",
    "        #print(\"Chunk \",i)\n",
    "        #print(\"Content \",chunk)\n",
    "        embeddings_chunk = get_embedding(chunk, runtime_client,embed_llm_id)\n",
    "        embeddings.append(embeddings_chunk)\n",
    "    return embeddings"
   ]
  },
  {
   "cell_type": "code",
   "execution_count": 19,
   "id": "4af5ca60-fe81-420d-a83b-46ace59cf1d0",
   "metadata": {
    "tags": []
   },
   "outputs": [],
   "source": [
    "from sklearn.preprocessing import normalize\n",
    "import numpy as np \n",
    "\n",
    "def parse_response(query_response, runtime_client,embed_llm_id):\n",
    "    \"\"\"Parse response and return the embedding.\"\"\"\n",
    "    embeddings = np.array(query_endpoint(query_response, runtime_client, embed_llm_id))\n",
    "    #avg_embeddings = np.mean(embeddings, axis=0)\n",
    "    # try max pooling of embedding vector\n",
    "    avg_embeddings = np.max(embeddings, axis=0)\n",
    "\n",
    "    avg_embeddings = avg_embeddings.reshape(1, -1)\n",
    "    # normalization before inner product\n",
    "    avg_embeddings = normalize(avg_embeddings, axis=1, norm='l2')\n",
    "    return np.squeeze(avg_embeddings)"
   ]
  },
  {
   "cell_type": "code",
   "execution_count": 20,
   "id": "cd789ec0-6368-4639-902a-92c74f2fb2a5",
   "metadata": {
    "tags": []
   },
   "outputs": [],
   "source": [
    "embedding = parse_response(payload, runtime_client, embed_llm_id)"
   ]
  },
  {
   "cell_type": "code",
   "execution_count": 21,
   "id": "c04166bb-2aef-49ac-95d5-cf6862c3f269",
   "metadata": {
    "tags": []
   },
   "outputs": [
    {
     "name": "stdout",
     "output_type": "stream",
     "text": [
      "[ 0.06288187 -0.0086542  -0.02921784 ...  0.0128622   0.05716533\n",
      " -0.00952756]\n",
      "True\n"
     ]
    }
   ],
   "source": [
    "print(embedding)\n",
    "print(abs(np.linalg.norm(embedding) - 1) < 1e-5)"
   ]
  },
  {
   "cell_type": "markdown",
   "id": "ed81e433-ea55-4939-94b6-47241f511178",
   "metadata": {
    "tags": []
   },
   "source": [
    "#### Now we will pass all content for embedding"
   ]
  },
  {
   "cell_type": "code",
   "execution_count": 22,
   "id": "17005140-3d8a-4664-9836-6b0ab26481c7",
   "metadata": {
    "tags": []
   },
   "outputs": [],
   "source": [
    "# Define a name for the output file\n",
    "pdf_json_file_name = './data/content.json'\n",
    "\n",
    "with open(pdf_json_file_name, 'r') as f:\n",
    "    data = json.load(f)"
   ]
  },
  {
   "cell_type": "code",
   "execution_count": 24,
   "id": "36d52112-da17-4679-a260-85846ce54a73",
   "metadata": {
    "tags": []
   },
   "outputs": [
    {
     "name": "stdout",
     "output_type": "stream",
     "text": [
      "Processing page 0\n",
      "Processing page 100\n",
      "Processing page 200\n",
      "Processing page 300\n"
     ]
    }
   ],
   "source": [
    "# Loop through pages\n",
    "for page_index, page in enumerate(data):\n",
    "    if page_index % 100 == 0:\n",
    "        print(f'Processing page {page_index}')\n",
    "    data[page_index][\"embedding\"] = parse_response(data[page_index][\"content\"], runtime_client, embed_llm_id).tolist()"
   ]
  },
  {
   "cell_type": "code",
   "execution_count": 25,
   "id": "c5fc3f3f-afa7-4ca9-91eb-e981c0e9b77a",
   "metadata": {
    "tags": []
   },
   "outputs": [],
   "source": [
    "output_file_name = './data/embedding.json'\n",
    "with open(output_file_name, 'w') as f:\n",
    "    # Use json.dump to write pdfText to the file\n",
    "    json.dump(data, f, indent=4)"
   ]
  },
  {
   "cell_type": "code",
   "execution_count": null,
   "id": "246ab0bd-bdd6-4f45-a119-262a3693c9bd",
   "metadata": {
    "tags": []
   },
   "outputs": [],
   "source": []
  },
  {
   "cell_type": "code",
   "execution_count": null,
   "id": "dad64b6b-c11f-4898-bbc5-3c003eac462a",
   "metadata": {},
   "outputs": [],
   "source": []
  }
 ],
 "metadata": {
  "availableInstances": [
   {
    "_defaultOrder": 0,
    "_isFastLaunch": true,
    "category": "General purpose",
    "gpuNum": 0,
    "hideHardwareSpecs": false,
    "memoryGiB": 4,
    "name": "ml.t3.medium",
    "vcpuNum": 2
   },
   {
    "_defaultOrder": 1,
    "_isFastLaunch": false,
    "category": "General purpose",
    "gpuNum": 0,
    "hideHardwareSpecs": false,
    "memoryGiB": 8,
    "name": "ml.t3.large",
    "vcpuNum": 2
   },
   {
    "_defaultOrder": 2,
    "_isFastLaunch": false,
    "category": "General purpose",
    "gpuNum": 0,
    "hideHardwareSpecs": false,
    "memoryGiB": 16,
    "name": "ml.t3.xlarge",
    "vcpuNum": 4
   },
   {
    "_defaultOrder": 3,
    "_isFastLaunch": false,
    "category": "General purpose",
    "gpuNum": 0,
    "hideHardwareSpecs": false,
    "memoryGiB": 32,
    "name": "ml.t3.2xlarge",
    "vcpuNum": 8
   },
   {
    "_defaultOrder": 4,
    "_isFastLaunch": true,
    "category": "General purpose",
    "gpuNum": 0,
    "hideHardwareSpecs": false,
    "memoryGiB": 8,
    "name": "ml.m5.large",
    "vcpuNum": 2
   },
   {
    "_defaultOrder": 5,
    "_isFastLaunch": false,
    "category": "General purpose",
    "gpuNum": 0,
    "hideHardwareSpecs": false,
    "memoryGiB": 16,
    "name": "ml.m5.xlarge",
    "vcpuNum": 4
   },
   {
    "_defaultOrder": 6,
    "_isFastLaunch": false,
    "category": "General purpose",
    "gpuNum": 0,
    "hideHardwareSpecs": false,
    "memoryGiB": 32,
    "name": "ml.m5.2xlarge",
    "vcpuNum": 8
   },
   {
    "_defaultOrder": 7,
    "_isFastLaunch": false,
    "category": "General purpose",
    "gpuNum": 0,
    "hideHardwareSpecs": false,
    "memoryGiB": 64,
    "name": "ml.m5.4xlarge",
    "vcpuNum": 16
   },
   {
    "_defaultOrder": 8,
    "_isFastLaunch": false,
    "category": "General purpose",
    "gpuNum": 0,
    "hideHardwareSpecs": false,
    "memoryGiB": 128,
    "name": "ml.m5.8xlarge",
    "vcpuNum": 32
   },
   {
    "_defaultOrder": 9,
    "_isFastLaunch": false,
    "category": "General purpose",
    "gpuNum": 0,
    "hideHardwareSpecs": false,
    "memoryGiB": 192,
    "name": "ml.m5.12xlarge",
    "vcpuNum": 48
   },
   {
    "_defaultOrder": 10,
    "_isFastLaunch": false,
    "category": "General purpose",
    "gpuNum": 0,
    "hideHardwareSpecs": false,
    "memoryGiB": 256,
    "name": "ml.m5.16xlarge",
    "vcpuNum": 64
   },
   {
    "_defaultOrder": 11,
    "_isFastLaunch": false,
    "category": "General purpose",
    "gpuNum": 0,
    "hideHardwareSpecs": false,
    "memoryGiB": 384,
    "name": "ml.m5.24xlarge",
    "vcpuNum": 96
   },
   {
    "_defaultOrder": 12,
    "_isFastLaunch": false,
    "category": "General purpose",
    "gpuNum": 0,
    "hideHardwareSpecs": false,
    "memoryGiB": 8,
    "name": "ml.m5d.large",
    "vcpuNum": 2
   },
   {
    "_defaultOrder": 13,
    "_isFastLaunch": false,
    "category": "General purpose",
    "gpuNum": 0,
    "hideHardwareSpecs": false,
    "memoryGiB": 16,
    "name": "ml.m5d.xlarge",
    "vcpuNum": 4
   },
   {
    "_defaultOrder": 14,
    "_isFastLaunch": false,
    "category": "General purpose",
    "gpuNum": 0,
    "hideHardwareSpecs": false,
    "memoryGiB": 32,
    "name": "ml.m5d.2xlarge",
    "vcpuNum": 8
   },
   {
    "_defaultOrder": 15,
    "_isFastLaunch": false,
    "category": "General purpose",
    "gpuNum": 0,
    "hideHardwareSpecs": false,
    "memoryGiB": 64,
    "name": "ml.m5d.4xlarge",
    "vcpuNum": 16
   },
   {
    "_defaultOrder": 16,
    "_isFastLaunch": false,
    "category": "General purpose",
    "gpuNum": 0,
    "hideHardwareSpecs": false,
    "memoryGiB": 128,
    "name": "ml.m5d.8xlarge",
    "vcpuNum": 32
   },
   {
    "_defaultOrder": 17,
    "_isFastLaunch": false,
    "category": "General purpose",
    "gpuNum": 0,
    "hideHardwareSpecs": false,
    "memoryGiB": 192,
    "name": "ml.m5d.12xlarge",
    "vcpuNum": 48
   },
   {
    "_defaultOrder": 18,
    "_isFastLaunch": false,
    "category": "General purpose",
    "gpuNum": 0,
    "hideHardwareSpecs": false,
    "memoryGiB": 256,
    "name": "ml.m5d.16xlarge",
    "vcpuNum": 64
   },
   {
    "_defaultOrder": 19,
    "_isFastLaunch": false,
    "category": "General purpose",
    "gpuNum": 0,
    "hideHardwareSpecs": false,
    "memoryGiB": 384,
    "name": "ml.m5d.24xlarge",
    "vcpuNum": 96
   },
   {
    "_defaultOrder": 20,
    "_isFastLaunch": false,
    "category": "General purpose",
    "gpuNum": 0,
    "hideHardwareSpecs": true,
    "memoryGiB": 0,
    "name": "ml.geospatial.interactive",
    "supportedImageNames": [
     "sagemaker-geospatial-v1-0"
    ],
    "vcpuNum": 0
   },
   {
    "_defaultOrder": 21,
    "_isFastLaunch": true,
    "category": "Compute optimized",
    "gpuNum": 0,
    "hideHardwareSpecs": false,
    "memoryGiB": 4,
    "name": "ml.c5.large",
    "vcpuNum": 2
   },
   {
    "_defaultOrder": 22,
    "_isFastLaunch": false,
    "category": "Compute optimized",
    "gpuNum": 0,
    "hideHardwareSpecs": false,
    "memoryGiB": 8,
    "name": "ml.c5.xlarge",
    "vcpuNum": 4
   },
   {
    "_defaultOrder": 23,
    "_isFastLaunch": false,
    "category": "Compute optimized",
    "gpuNum": 0,
    "hideHardwareSpecs": false,
    "memoryGiB": 16,
    "name": "ml.c5.2xlarge",
    "vcpuNum": 8
   },
   {
    "_defaultOrder": 24,
    "_isFastLaunch": false,
    "category": "Compute optimized",
    "gpuNum": 0,
    "hideHardwareSpecs": false,
    "memoryGiB": 32,
    "name": "ml.c5.4xlarge",
    "vcpuNum": 16
   },
   {
    "_defaultOrder": 25,
    "_isFastLaunch": false,
    "category": "Compute optimized",
    "gpuNum": 0,
    "hideHardwareSpecs": false,
    "memoryGiB": 72,
    "name": "ml.c5.9xlarge",
    "vcpuNum": 36
   },
   {
    "_defaultOrder": 26,
    "_isFastLaunch": false,
    "category": "Compute optimized",
    "gpuNum": 0,
    "hideHardwareSpecs": false,
    "memoryGiB": 96,
    "name": "ml.c5.12xlarge",
    "vcpuNum": 48
   },
   {
    "_defaultOrder": 27,
    "_isFastLaunch": false,
    "category": "Compute optimized",
    "gpuNum": 0,
    "hideHardwareSpecs": false,
    "memoryGiB": 144,
    "name": "ml.c5.18xlarge",
    "vcpuNum": 72
   },
   {
    "_defaultOrder": 28,
    "_isFastLaunch": false,
    "category": "Compute optimized",
    "gpuNum": 0,
    "hideHardwareSpecs": false,
    "memoryGiB": 192,
    "name": "ml.c5.24xlarge",
    "vcpuNum": 96
   },
   {
    "_defaultOrder": 29,
    "_isFastLaunch": true,
    "category": "Accelerated computing",
    "gpuNum": 1,
    "hideHardwareSpecs": false,
    "memoryGiB": 16,
    "name": "ml.g4dn.xlarge",
    "vcpuNum": 4
   },
   {
    "_defaultOrder": 30,
    "_isFastLaunch": false,
    "category": "Accelerated computing",
    "gpuNum": 1,
    "hideHardwareSpecs": false,
    "memoryGiB": 32,
    "name": "ml.g4dn.2xlarge",
    "vcpuNum": 8
   },
   {
    "_defaultOrder": 31,
    "_isFastLaunch": false,
    "category": "Accelerated computing",
    "gpuNum": 1,
    "hideHardwareSpecs": false,
    "memoryGiB": 64,
    "name": "ml.g4dn.4xlarge",
    "vcpuNum": 16
   },
   {
    "_defaultOrder": 32,
    "_isFastLaunch": false,
    "category": "Accelerated computing",
    "gpuNum": 1,
    "hideHardwareSpecs": false,
    "memoryGiB": 128,
    "name": "ml.g4dn.8xlarge",
    "vcpuNum": 32
   },
   {
    "_defaultOrder": 33,
    "_isFastLaunch": false,
    "category": "Accelerated computing",
    "gpuNum": 4,
    "hideHardwareSpecs": false,
    "memoryGiB": 192,
    "name": "ml.g4dn.12xlarge",
    "vcpuNum": 48
   },
   {
    "_defaultOrder": 34,
    "_isFastLaunch": false,
    "category": "Accelerated computing",
    "gpuNum": 1,
    "hideHardwareSpecs": false,
    "memoryGiB": 256,
    "name": "ml.g4dn.16xlarge",
    "vcpuNum": 64
   },
   {
    "_defaultOrder": 35,
    "_isFastLaunch": false,
    "category": "Accelerated computing",
    "gpuNum": 1,
    "hideHardwareSpecs": false,
    "memoryGiB": 61,
    "name": "ml.p3.2xlarge",
    "vcpuNum": 8
   },
   {
    "_defaultOrder": 36,
    "_isFastLaunch": false,
    "category": "Accelerated computing",
    "gpuNum": 4,
    "hideHardwareSpecs": false,
    "memoryGiB": 244,
    "name": "ml.p3.8xlarge",
    "vcpuNum": 32
   },
   {
    "_defaultOrder": 37,
    "_isFastLaunch": false,
    "category": "Accelerated computing",
    "gpuNum": 8,
    "hideHardwareSpecs": false,
    "memoryGiB": 488,
    "name": "ml.p3.16xlarge",
    "vcpuNum": 64
   },
   {
    "_defaultOrder": 38,
    "_isFastLaunch": false,
    "category": "Accelerated computing",
    "gpuNum": 8,
    "hideHardwareSpecs": false,
    "memoryGiB": 768,
    "name": "ml.p3dn.24xlarge",
    "vcpuNum": 96
   },
   {
    "_defaultOrder": 39,
    "_isFastLaunch": false,
    "category": "Memory Optimized",
    "gpuNum": 0,
    "hideHardwareSpecs": false,
    "memoryGiB": 16,
    "name": "ml.r5.large",
    "vcpuNum": 2
   },
   {
    "_defaultOrder": 40,
    "_isFastLaunch": false,
    "category": "Memory Optimized",
    "gpuNum": 0,
    "hideHardwareSpecs": false,
    "memoryGiB": 32,
    "name": "ml.r5.xlarge",
    "vcpuNum": 4
   },
   {
    "_defaultOrder": 41,
    "_isFastLaunch": false,
    "category": "Memory Optimized",
    "gpuNum": 0,
    "hideHardwareSpecs": false,
    "memoryGiB": 64,
    "name": "ml.r5.2xlarge",
    "vcpuNum": 8
   },
   {
    "_defaultOrder": 42,
    "_isFastLaunch": false,
    "category": "Memory Optimized",
    "gpuNum": 0,
    "hideHardwareSpecs": false,
    "memoryGiB": 128,
    "name": "ml.r5.4xlarge",
    "vcpuNum": 16
   },
   {
    "_defaultOrder": 43,
    "_isFastLaunch": false,
    "category": "Memory Optimized",
    "gpuNum": 0,
    "hideHardwareSpecs": false,
    "memoryGiB": 256,
    "name": "ml.r5.8xlarge",
    "vcpuNum": 32
   },
   {
    "_defaultOrder": 44,
    "_isFastLaunch": false,
    "category": "Memory Optimized",
    "gpuNum": 0,
    "hideHardwareSpecs": false,
    "memoryGiB": 384,
    "name": "ml.r5.12xlarge",
    "vcpuNum": 48
   },
   {
    "_defaultOrder": 45,
    "_isFastLaunch": false,
    "category": "Memory Optimized",
    "gpuNum": 0,
    "hideHardwareSpecs": false,
    "memoryGiB": 512,
    "name": "ml.r5.16xlarge",
    "vcpuNum": 64
   },
   {
    "_defaultOrder": 46,
    "_isFastLaunch": false,
    "category": "Memory Optimized",
    "gpuNum": 0,
    "hideHardwareSpecs": false,
    "memoryGiB": 768,
    "name": "ml.r5.24xlarge",
    "vcpuNum": 96
   },
   {
    "_defaultOrder": 47,
    "_isFastLaunch": false,
    "category": "Accelerated computing",
    "gpuNum": 1,
    "hideHardwareSpecs": false,
    "memoryGiB": 16,
    "name": "ml.g5.xlarge",
    "vcpuNum": 4
   },
   {
    "_defaultOrder": 48,
    "_isFastLaunch": false,
    "category": "Accelerated computing",
    "gpuNum": 1,
    "hideHardwareSpecs": false,
    "memoryGiB": 32,
    "name": "ml.g5.2xlarge",
    "vcpuNum": 8
   },
   {
    "_defaultOrder": 49,
    "_isFastLaunch": false,
    "category": "Accelerated computing",
    "gpuNum": 1,
    "hideHardwareSpecs": false,
    "memoryGiB": 64,
    "name": "ml.g5.4xlarge",
    "vcpuNum": 16
   },
   {
    "_defaultOrder": 50,
    "_isFastLaunch": false,
    "category": "Accelerated computing",
    "gpuNum": 1,
    "hideHardwareSpecs": false,
    "memoryGiB": 128,
    "name": "ml.g5.8xlarge",
    "vcpuNum": 32
   },
   {
    "_defaultOrder": 51,
    "_isFastLaunch": false,
    "category": "Accelerated computing",
    "gpuNum": 1,
    "hideHardwareSpecs": false,
    "memoryGiB": 256,
    "name": "ml.g5.16xlarge",
    "vcpuNum": 64
   },
   {
    "_defaultOrder": 52,
    "_isFastLaunch": false,
    "category": "Accelerated computing",
    "gpuNum": 4,
    "hideHardwareSpecs": false,
    "memoryGiB": 192,
    "name": "ml.g5.12xlarge",
    "vcpuNum": 48
   },
   {
    "_defaultOrder": 53,
    "_isFastLaunch": false,
    "category": "Accelerated computing",
    "gpuNum": 4,
    "hideHardwareSpecs": false,
    "memoryGiB": 384,
    "name": "ml.g5.24xlarge",
    "vcpuNum": 96
   },
   {
    "_defaultOrder": 54,
    "_isFastLaunch": false,
    "category": "Accelerated computing",
    "gpuNum": 8,
    "hideHardwareSpecs": false,
    "memoryGiB": 768,
    "name": "ml.g5.48xlarge",
    "vcpuNum": 192
   },
   {
    "_defaultOrder": 55,
    "_isFastLaunch": false,
    "category": "Accelerated computing",
    "gpuNum": 8,
    "hideHardwareSpecs": false,
    "memoryGiB": 1152,
    "name": "ml.p4d.24xlarge",
    "vcpuNum": 96
   },
   {
    "_defaultOrder": 56,
    "_isFastLaunch": false,
    "category": "Accelerated computing",
    "gpuNum": 8,
    "hideHardwareSpecs": false,
    "memoryGiB": 1152,
    "name": "ml.p4de.24xlarge",
    "vcpuNum": 96
   }
  ],
  "instance_type": "ml.t3.medium",
  "kernelspec": {
   "display_name": "conda_python3",
   "language": "python",
   "name": "conda_python3"
  },
  "language_info": {
   "codemirror_mode": {
    "name": "ipython",
    "version": 3
   },
   "file_extension": ".py",
   "mimetype": "text/x-python",
   "name": "python",
   "nbconvert_exporter": "python",
   "pygments_lexer": "ipython3",
   "version": "3.10.10"
  }
 },
 "nbformat": 4,
 "nbformat_minor": 5
}
