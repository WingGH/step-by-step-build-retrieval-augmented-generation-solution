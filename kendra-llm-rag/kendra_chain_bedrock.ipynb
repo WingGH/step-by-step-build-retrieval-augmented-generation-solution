{
 "cells": [
  {
   "cell_type": "code",
   "execution_count": 21,
   "id": "3f431582-02da-46cc-9d52-22df34******",
   "metadata": {
    "tags": []
   },
   "outputs": [],
   "source": [
    "!pip install -q langchain"
   ]
  },
  {
   "cell_type": "markdown",
   "id": "affb5b7b-0588-46c8-afcd-5947b5d2d8ce",
   "metadata": {},
   "source": [
    "Amazon Kendra is an intelligent search service powered by machine learning, enabling organizations to provide relevant information to customers and employees, when they need it. Starting today, AWS customers can use Amazon Kendra as a retriever to build retrieval augmented generation (RAG) systems.\n",
    "\n",
    "Amazon Kendra launches Retrieval API https://js.langchain.com/docs/api/retrievers_amazon_kendra/classes/AmazonKendraRetriever"
   ]
  },
  {
   "cell_type": "markdown",
   "id": "d871acc4-f976-4db5-b497-40000bb0c5a6",
   "metadata": {},
   "source": [
    "As Amazon Kendra is a managed services, you can easily setup the search engine and have the index_id on the console, following the tutorial here [Getting started with the Amazon Kendra console](https://docs.aws.amazon.com/kendra/latest/dg/gs-console.html)\n"
   ]
  },
  {
   "cell_type": "code",
   "execution_count": 22,
   "id": "f6306928-ee0c-4e99-b779-fb26c44ec0af",
   "metadata": {
    "tags": []
   },
   "outputs": [],
   "source": [
    "from langchain.retrievers import AmazonKendraRetriever\n",
    "kendra_aws_region = \"eu-west-1\"\n",
    "\n",
    "retriever = AmazonKendraRetriever(index_id=\"c175bf7c-8169-4383-abae-7a2753a95d44\",top_k=5,region_name=kendra_aws_region)"
   ]
  },
  {
   "cell_type": "code",
   "execution_count": 23,
   "id": "b72289cd-86a7-4d57-ab8f-4fe0676959ef",
   "metadata": {
    "tags": []
   },
   "outputs": [],
   "source": [
    "from langchain.prompts import PromptTemplate\n",
    "prompt_template = \"\"\"Use the following pieces of context to answer the question at the end. \n",
    "If you don't know the answer, just say that you don't know, don't try to make up an answer.\n",
    "\n",
    "Context:  {context}\n",
    "\n",
    "Question: {question}\n",
    "Answer:\"\"\"\n",
    "PROMPT = PromptTemplate(\n",
    "    template=prompt_template, input_variables=[\"context\", \"question\"]\n",
    ")"
   ]
  },
  {
   "cell_type": "code",
   "execution_count": 24,
   "id": "e3de3bb6-90ea-4012-8161-e14593200d5f",
   "metadata": {
    "tags": []
   },
   "outputs": [],
   "source": [
    "from langchain.llms import Bedrock\n",
    "aws_region = \"us-east-1\"\n",
    "\n",
    "inference_modifier = {'max_tokens_to_sample':500, \n",
    "                      \"temperature\":0.0,\n",
    "                      \"top_k\":1,\n",
    "                      \"stop_sequences\": [\"\\n\\nHuman\"]\n",
    "                     }\n",
    "\n",
    "bedrock_llm = Bedrock(\n",
    "    credentials_profile_name= 'cross_account_bedrock_access',\n",
    "    model_id=\"anthropic.claude-v2\",\n",
    "    region_name=\"us-east-1\",\n",
    "    model_kwargs = inference_modifier\n",
    ")"
   ]
  },
  {
   "cell_type": "code",
   "execution_count": 25,
   "id": "7552072c-b384-4d02-9de7-c090b1f2271a",
   "metadata": {
    "tags": []
   },
   "outputs": [],
   "source": [
    "from langchain.chains import RetrievalQA\n",
    "import langchain\n",
    "\n",
    "langchain.verbose = True\n",
    "chain_type_kwargs = {\"prompt\": PROMPT}\n",
    "qa = RetrievalQA.from_chain_type(llm=bedrock_llm, chain_type=\"stuff\", retriever=retriever, chain_type_kwargs=chain_type_kwargs, return_source_documents=True)"
   ]
  },
  {
   "cell_type": "code",
   "execution_count": 26,
   "id": "0e586826-e2ae-4c1f-bdb2-b4190dca2d38",
   "metadata": {
    "tags": []
   },
   "outputs": [
    {
     "name": "stdout",
     "output_type": "stream",
     "text": [
      "\n",
      "\n",
      "\u001b[1m> Entering new RetrievalQA chain...\u001b[0m\n",
      "\n",
      "\n",
      "\u001b[1m> Entering new StuffDocumentsChain chain...\u001b[0m\n",
      "\n",
      "\n",
      "\u001b[1m> Entering new LLMChain chain...\u001b[0m\n",
      "Prompt after formatting:\n",
      "\u001b[32;1m\u001b[1;3mUse the following pieces of context to answer the question at the end. \n",
      "If you don't know the answer, just say that you don't know, don't try to make up an answer.\n",
      "\n",
      "Context:  Document Title: 2022_Annual Report_ENG_XIAOMI.pdf\n",
      "Document Excerpt: \n",
      "clarity, and sustainability context, to define our reporting boundary and ensuring proper presentation of our reported information. Materiality: We report and manage material ESG topics which have been identified through stakeholder engagement and materiality assessment exercises. More information can be found in the Stakeholder Engagement and Materiality Assessment sections of this Report. Balance: This Report discloses both positive and negative aspects of our progress to offer an unbiased presentation of Xiaomi’s ESG performance within the reporting period. Quantitative: The methodologies and standards used for the calculation of Key Performance Indicators (KPIs), including assumptions, tools, and conversion factors, are described in the corresponding section (if applicable) in this Report. More information can be found in the Stakeholder Engagement and Materiality Assessment sections of this Report. Balance: This Report discloses both positive and negative aspects of our progress to offer an unbiased presentation of Xiaomi’s ESG performance within the reporting period. Quantitative: The methodologies and standards used for the calculation of Key Performance Indicators (KPIs), including assumptions, tools, and conversion factors, are described in the corresponding section (if applicable) in this Report. Consistency: This Report was prepared in a manner consistent with previous years to allow for meaningful comparisons over time. Any adjustments are stated in the relevant section of the Report. This Report covers the period from January 1, 2022 to December 31, 2022 (“in 2022”, “this year” or “this reporting period”), and where specified, presents information over a wider time frame spanning before or after 2022, to enhance data comparability and continuity. The source of information and cases within this Report was mainly derived from the Group’s statistical reports, official documents, and financial statements in 2022.\n",
      "\n",
      "\n",
      "Document Title: 2022_Annual Report_ENG_XIAOMI.pdf\n",
      "Document Excerpt: \n",
      "Uncertainties presented by the legal system in mainland China could impede the Group’s beneficiary rights of the results, assets and liabilities of Xiaomi Inc. and its subsidiaries. The directors of the Company, based on the advice of its legal counsel, consider that the Contractual Arrangements among Xiaomi Communications, Xiaomi Inc. and its equity holders are in compliance with the relevant laws and regulations in mainland China and are legally binding and enforceable. Other Contractual Arrangements were also executed for other operating companies in mainland China established by the Group similar to Xiaomi Inc. subsequently. All of these operating companies are treated as controlled structured entities of the Company and their financial statements have also been consolidated by the Company. See details in Note 12(a). 2 Summary of significant accounting policies The principal accounting policies applied in the preparation of these consolidated financial statements are set out below. These policies have been consistently applied throughout all the years presented, unless otherwise stated. 2.1 Basis of preparation The consolidated financial statements of the Group have been prepared in accordance with all applicable International Financial Reporting Standards (“IFRSs”) issued by International Accounting Standards Board (“IASB”) and disclosure requirements of the Hong Kong Companies Ordinance. 1972022 ANNUAL REPORT NOTES TO THE CONSOLIDATED FINANCIAL STATEMENTS (Expressed in RMB unless otherwise indicated) 2 Summary of significant accounting policies (continued) 2.1 Basis of preparation (continued) The consolidated financial statements of the Group have been prepared under the historical cost convention, as modified by the revaluation of financial assets which are carried at fair value.\n",
      "\n",
      "\n",
      "Document Title: 2022_Annual Report_ENG_XIAOMI.pdf\n",
      "Document Excerpt: \n",
      "1572022 ANNUAL REPORT Metrics and Targets Xiaomi has set the target, with reference to the ISO Net Zero Guidelines (IWA 42:2022), to establish all pre-conditions necessary by 2040 in order to achieve net zero emissions. Details of our relevant metrics and targets can be found in the Carbon Footprint Measurement section of the Report. Key ESG Performance Indicators35 The scope of the following key ESG performance indicators covers, but is not limited to, the same scope as the company’s consolidated financial statements. Some of the data also includes relevant information on entities and facilities that are under actual operational control. Key Environmental Indicators36 Based on Xiaomi’s current operations, Xiaomi’s key environmental indicators for 2022 are listed below: 2022 2021 2020 Consumption Total Comprehensive Energy Consumption (MWh)37 144,741.38 144,626.56 118,397.58 Direct Energy Consumption (MWh) 5,190.84 8,691.42 5,586.69 Indirect Energy Consumption (MWh) 139,550.54 135,935.14 112,810.89 Total GHG Emissions (Scope 1 and Scope 2) (Metric Tons CO2e Key Environmental Indicators36 Based on Xiaomi’s current operations, Xiaomi’s key environmental indicators for 2022 are listed below: 2022 2021 2020 Consumption Total Comprehensive Energy Consumption (MWh)37 144,741.38 144,626.56 118,397.58 Direct Energy Consumption (MWh) 5,190.84 8,691.42 5,586.69 Indirect Energy Consumption (MWh) 139,550.54 135,935.14 112,810.89 Total GHG Emissions (Scope 1 and Scope 2) (Metric Tons CO2e) 85,742.61 82,820.16 66,481.29 Direct GHG Emissions (Scope 1) (Metric Tons CO2e) 7,122.60 9,096.95 8,402.12 Indirect GHG Emissions of Imported Energy (Scope 2) (Metric Tons CO2e) 78,620.01 73,723.21 58,079.17 GHG Emissions (Scope 3) (Metric Tons CO2e) The data is expected to be disclosed in July 2023.\n",
      "\n",
      "\n",
      "Document Title: 2022_Annual Report_ENG_XIAOMI.pdf\n",
      "Document Excerpt: \n",
      "Connected IoT devices as of December 31, 2022, excluding smartphones, tablets, and laptops (2) In December 2022 Year ended December 31, 2022 Total revenue 280.0 RMB billion Smartphone revenue 167.2 RMB billion IoT and lifestyle products revenue 79.8 RMB billion Internet services revenue 28.3 RMB billion Connected IoT devices(1) 589.4 million units MIUI MAU(2) 582.1 million Overseas revenue 49.2% of total revenue Smartphone shipments 150.5 million units CHAIRMAN’S STATEMENT 8 XIAOMI CORPORATION Dear Shareholders, I am pleased to present our annual report for the year ended December 31, 2022 to the shareholders. Business Review and Outlook OVERALL PERFORMANCE SMARTPHONES IoT AND LIFESTYLE PRODUCTS INTERNET SERVICES STRATEGY UPDATES 1. revenue 49.2% of total revenue Smartphone shipments 150.5 million units CHAIRMAN’S STATEMENT 8 XIAOMI CORPORATION Dear Shareholders, I am pleased to present our annual report for the year ended December 31, 2022 to the shareholders. Business Review and Outlook OVERALL PERFORMANCE SMARTPHONES IoT AND LIFESTYLE PRODUCTS INTERNET SERVICES STRATEGY UPDATES 1. Overall performance 2022 was full of challenges, the global economy and industry development was impacted by a variety of factors. According to the International Monetary Fund (“IMF”)1, global economic growth declined to 3.4% in 2022 from 6.2% in 2021. However, amid the challenging macro environment, each of our business segments remained resilient. In 2022, our total revenue amounted to RMB280.0 billion; our adjusted net profit was RMB8.5 billion, which included RMB3.1 billion in expenses related to our smart Electric Vehicle (“EV”) and other new initiatives.\n",
      "\n",
      "\n",
      "Document Title: 2022_Annual Report_ENG_XIAOMI.pdf\n",
      "Document Excerpt: \n",
      "12,368,223.29 — Total Water Consumption (Metric Tons)38 510,156.05 463,663.00 303,132.92 Fresh Water Consumption (Metric Tons) 391,953.85 329,572.00 187,339.02 Reclaimed Water Consumption (Metric Tons) 118,202.20 134,091.00 115,793.90 Non-hazardous Waste (Metric Tons) 7,052.28 6,328.88 4,661.07 Hazardous Waste (Metric Tons) 1.43 2.50 0.37 Total Packaging Materials used for Finished Products (Metric Tons)39 5,065.08 — — 35 The key ESG performance indicators listed here include, but not limited to, the same scope as the consolidated corporate statements, and data of the actual operations of the controlling business and facilities in some cases. Numbers and percentage figures in this section have been subject to rounding. performance indicators listed here include, but not limited to, the same scope as the consolidated corporate statements, and data of the actual operations of the controlling business and facilities in some cases. Numbers and percentage figures in this section have been subject to rounding. Any discrepancy between the total and the sum of the amounts listed is due to rounding. 36 The data presented in this chapter has been assured by an independent third-party verification organization. The assurance certificate is available on the Sustainability page of Xiaomi’s Website: https://www.mi.com/global/about/sustainability. 37 The total amount of energy consumption was calculated based on the consumption of purchased electricity, purchased heat, natural gas, and gasoline, using the conversion factors specified in the national standard General Rules for Calculation of the Comprehensive Energy Consumption (GB/T 2589-2020) of the People’s Republic of China.\n",
      "\n",
      "\n",
      "Question: Was Xiaomi's financial performance consistent in 2022?\n",
      "Answer:\u001b[0m\n",
      "\n",
      "\u001b[1m> Finished chain.\u001b[0m\n",
      "\n",
      "\u001b[1m> Finished chain.\u001b[0m\n",
      "\n",
      "\u001b[1m> Finished chain.\u001b[0m\n"
     ]
    }
   ],
   "source": [
    "query = \"Was Xiaomi's financial performance consistent in 2022?\"\n",
    "result = qa(query)"
   ]
  },
  {
   "cell_type": "code",
   "execution_count": 27,
   "id": "cb5798d2-9bd1-4056-a792-fb04d8657953",
   "metadata": {
    "tags": []
   },
   "outputs": [
    {
     "name": "stdout",
     "output_type": "stream",
     "text": [
      " Based on the excerpts, Xiaomi's financial performance in 2022 faced challenges but remained resilient. The excerpts mention that total revenue was RMB280 billion in 2022, adjusted net profit was RMB8.5 billion including expenses for new initiatives, and each business segment remained resilient amid a challenging macro environment. So while there were challenges, Xiaomi's overall financial performance seems to have remained relatively consistent in 2022 compared to prior years.\n"
     ]
    }
   ],
   "source": [
    "print(result['result'])"
   ]
  },
  {
   "cell_type": "code",
   "execution_count": 28,
   "id": "88eeafe6-f114-4c0f-869d-197614dba689",
   "metadata": {
    "tags": []
   },
   "outputs": [
    {
     "name": "stdout",
     "output_type": "stream",
     "text": [
      "[Document(page_content='Document Title: 2022_Annual Report_ENG_XIAOMI.pdf\\nDocument Excerpt: \\nclarity, and sustainability context, to define our reporting boundary and ensuring proper presentation of our reported information. Materiality: We report and manage material ESG topics which have been identified through stakeholder engagement and materiality assessment exercises. More information can be found in the Stakeholder Engagement and Materiality Assessment sections of this Report. Balance: This Report discloses both positive and negative aspects of our progress to offer an unbiased presentation of Xiaomi’s ESG performance within the reporting period. Quantitative: The methodologies and standards used for the calculation of Key Performance Indicators (KPIs), including assumptions, tools, and conversion factors, are described in the corresponding section (if applicable) in this Report. More information can be found in the Stakeholder Engagement and Materiality Assessment sections of this Report. Balance: This Report discloses both positive and negative aspects of our progress to offer an unbiased presentation of Xiaomi’s ESG performance within the reporting period. Quantitative: The methodologies and standards used for the calculation of Key Performance Indicators (KPIs), including assumptions, tools, and conversion factors, are described in the corresponding section (if applicable) in this Report. Consistency: This Report was prepared in a manner consistent with previous years to allow for meaningful comparisons over time. Any adjustments are stated in the relevant section of the Report. This Report covers the period from January 1, 2022 to December 31, 2022 (“in 2022”, “this year” or “this reporting period”), and where specified, presents information over a wider time frame spanning before or after 2022, to enhance data comparability and continuity. The source of information and cases within this Report was mainly derived from the Group’s statistical reports, official documents, and financial statements in 2022.\\n', metadata={'result_id': '91538b4c-c45c-4574-a7a8-f4042e31c33a-103c9b02-8d13-4ae0-941f-f5448f0bb05e', 'document_id': 's3://bucket-eu/kendra-knowledge-database/financial-report/2022_Annual Report_ENG_XIAOMI.pdf', 'source': 'https://*******bucket-eu.s3.eu-west-1.amazonaws.com/kendra-knowledge-database/financial-report/2022_Annual%20Report_ENG_XIAOMI.pdf', 'title': '2022_Annual Report_ENG_XIAOMI.pdf', 'excerpt': 'clarity, and sustainability context, to define our reporting boundary and ensuring proper presentation of our reported information. Materiality: We report and manage material ESG topics which have been identified through stakeholder engagement and materiality assessment exercises. More information can be found in the Stakeholder Engagement and Materiality Assessment sections of this Report. Balance: This Report discloses both positive and negative aspects of our progress to offer an unbiased presentation of Xiaomi’s ESG performance within the reporting period. Quantitative: The methodologies and standards used for the calculation of Key Performance Indicators (KPIs), including assumptions, tools, and conversion factors, are described in the corresponding section (if applicable) in this Report. More information can be found in the Stakeholder Engagement and Materiality Assessment sections of this Report. Balance: This Report discloses both positive and negative aspects of our progress to offer an unbiased presentation of Xiaomi’s ESG performance within the reporting period. Quantitative: The methodologies and standards used for the calculation of Key Performance Indicators (KPIs), including assumptions, tools, and conversion factors, are described in the corresponding section (if applicable) in this Report. Consistency: This Report was prepared in a manner consistent with previous years to allow for meaningful comparisons over time. Any adjustments are stated in the relevant section of the Report. This Report covers the period from January 1, 2022 to December 31, 2022 (“in 2022”, “this year” or “this reporting period”), and where specified, presents information over a wider time frame spanning before or after 2022, to enhance data comparability and continuity. The source of information and cases within this Report was mainly derived from the Group’s statistical reports, official documents, and financial statements in 2022.', 'document_attributes': {'_source_uri': 'https://*******bucket-eu.s3.eu-west-1.amazonaws.com/kendra-knowledge-database/financial-report/2022_Annual%20Report_ENG_XIAOMI.pdf', 's3_document_id': '2022_Annual Report_ENG_XIAOMI.pdf', '_excerpt_page_number': 102}}), Document(page_content='Document Title: 2022_Annual Report_ENG_XIAOMI.pdf\\nDocument Excerpt: \\nUncertainties presented by the legal system in mainland China could impede the Group’s beneficiary rights of the results, assets and liabilities of Xiaomi Inc. and its subsidiaries. The directors of the Company, based on the advice of its legal counsel, consider that the Contractual Arrangements among Xiaomi Communications, Xiaomi Inc. and its equity holders are in compliance with the relevant laws and regulations in mainland China and are legally binding and enforceable. Other Contractual Arrangements were also executed for other operating companies in mainland China established by the Group similar to Xiaomi Inc. subsequently. All of these operating companies are treated as controlled structured entities of the Company and their financial statements have also been consolidated by the Company. See details in Note 12(a). 2 Summary of significant accounting policies The principal accounting policies applied in the preparation of these consolidated financial statements are set out below. These policies have been consistently applied throughout all the years presented, unless otherwise stated. 2.1 Basis of preparation The consolidated financial statements of the Group have been prepared in accordance with all applicable International Financial Reporting Standards (“IFRSs”) issued by International Accounting Standards Board (“IASB”) and disclosure requirements of the Hong Kong Companies Ordinance. 1972022 ANNUAL REPORT NOTES TO THE CONSOLIDATED FINANCIAL STATEMENTS (Expressed in RMB unless otherwise indicated) 2 Summary of significant accounting policies (continued) 2.1 Basis of preparation (continued) The consolidated financial statements of the Group have been prepared under the historical cost convention, as modified by the revaluation of financial assets which are carried at fair value.\\n', metadata={'result_id': '91538b4c-c45c-4574-a7a8-f4042e31c33a-3fd80afd-5f69-49b2-b008-5b2f041022fb', 'document_id': 's3://*******bucket-eu/kendra-knowledge-database/financial-report/2022_Annual Report_ENG_XIAOMI.pdf', 'source': 'https://*******bucket-eu.s3.eu-west-1.amazonaws.com/kendra-knowledge-database/financial-report/2022_Annual%20Report_ENG_XIAOMI.pdf', 'title': '2022_Annual Report_ENG_XIAOMI.pdf', 'excerpt': 'Uncertainties presented by the legal system in mainland China could impede the Group’s beneficiary rights of the results, assets and liabilities of Xiaomi Inc. and its subsidiaries. The directors of the Company, based on the advice of its legal counsel, consider that the Contractual Arrangements among Xiaomi Communications, Xiaomi Inc. and its equity holders are in compliance with the relevant laws and regulations in mainland China and are legally binding and enforceable. Other Contractual Arrangements were also executed for other operating companies in mainland China established by the Group similar to Xiaomi Inc. subsequently. All of these operating companies are treated as controlled structured entities of the Company and their financial statements have also been consolidated by the Company. See details in Note 12(a). 2 Summary of significant accounting policies The principal accounting policies applied in the preparation of these consolidated financial statements are set out below. These policies have been consistently applied throughout all the years presented, unless otherwise stated. 2.1 Basis of preparation The consolidated financial statements of the Group have been prepared in accordance with all applicable International Financial Reporting Standards (“IFRSs”) issued by International Accounting Standards Board (“IASB”) and disclosure requirements of the Hong Kong Companies Ordinance. 1972022 ANNUAL REPORT NOTES TO THE CONSOLIDATED FINANCIAL STATEMENTS (Expressed in RMB unless otherwise indicated) 2 Summary of significant accounting policies (continued) 2.1 Basis of preparation (continued) The consolidated financial statements of the Group have been prepared under the historical cost convention, as modified by the revaluation of financial assets which are carried at fair value.', 'document_attributes': {'_source_uri': 'https://*******bucket-eu.s3.eu-west-1.amazonaws.com/kendra-knowledge-database/financial-report/2022_Annual%20Report_ENG_XIAOMI.pdf', 's3_document_id': '2022_Annual Report_ENG_XIAOMI.pdf', '_excerpt_page_number': 198}}), Document(page_content='Document Title: 2022_Annual Report_ENG_XIAOMI.pdf\\nDocument Excerpt: \\n1572022 ANNUAL REPORT Metrics and Targets Xiaomi has set the target, with reference to the ISO Net Zero Guidelines (IWA 42:2022), to establish all pre-conditions necessary by 2040 in order to achieve net zero emissions. Details of our relevant metrics and targets can be found in the Carbon Footprint Measurement section of the Report. Key ESG Performance Indicators35 The scope of the following key ESG performance indicators covers, but is not limited to, the same scope as the company’s consolidated financial statements. Some of the data also includes relevant information on entities and facilities that are under actual operational control. Key Environmental Indicators36 Based on Xiaomi’s current operations, Xiaomi’s key environmental indicators for 2022 are listed below: 2022 2021 2020 Consumption Total Comprehensive Energy Consumption (MWh)37 144,741.38 144,626.56 118,397.58 Direct Energy Consumption (MWh) 5,190.84 8,691.42 5,586.69 Indirect Energy Consumption (MWh) 139,550.54 135,935.14 112,810.89 Total GHG Emissions (Scope 1 and Scope 2) (Metric Tons CO2e Key Environmental Indicators36 Based on Xiaomi’s current operations, Xiaomi’s key environmental indicators for 2022 are listed below: 2022 2021 2020 Consumption Total Comprehensive Energy Consumption (MWh)37 144,741.38 144,626.56 118,397.58 Direct Energy Consumption (MWh) 5,190.84 8,691.42 5,586.69 Indirect Energy Consumption (MWh) 139,550.54 135,935.14 112,810.89 Total GHG Emissions (Scope 1 and Scope 2) (Metric Tons CO2e) 85,742.61 82,820.16 66,481.29 Direct GHG Emissions (Scope 1) (Metric Tons CO2e) 7,122.60 9,096.95 8,402.12 Indirect GHG Emissions of Imported Energy (Scope 2) (Metric Tons CO2e) 78,620.01 73,723.21 58,079.17 GHG Emissions (Scope 3) (Metric Tons CO2e) The data is expected to be disclosed in July 2023.\\n', metadata={'result_id': '91538b4c-c45c-4574-a7a8-f4042e31c33a-f0c71887-892a-45c8-a628-369e7e01b538', 'document_id': 's3://*******bucket-eu/kendra-knowledge-database/financial-report/2022_Annual Report_ENG_XIAOMI.pdf', 'source': 'https://*******bucket-eu.s3.eu-west-1.amazonaws.com/kendra-knowledge-database/financial-report/2022_Annual%20Report_ENG_XIAOMI.pdf', 'title': '2022_Annual Report_ENG_XIAOMI.pdf', 'excerpt': '1572022 ANNUAL REPORT Metrics and Targets Xiaomi has set the target, with reference to the ISO Net Zero Guidelines (IWA 42:2022), to establish all pre-conditions necessary by 2040 in order to achieve net zero emissions. Details of our relevant metrics and targets can be found in the Carbon Footprint Measurement section of the Report. Key ESG Performance Indicators35 The scope of the following key ESG performance indicators covers, but is not limited to, the same scope as the company’s consolidated financial statements. Some of the data also includes relevant information on entities and facilities that are under actual operational control. Key Environmental Indicators36 Based on Xiaomi’s current operations, Xiaomi’s key environmental indicators for 2022 are listed below: 2022 2021 2020 Consumption Total Comprehensive Energy Consumption (MWh)37 144,741.38  144,626.56  118,397.58 Direct Energy Consumption (MWh) 5,190.84 8,691.42 5,586.69 Indirect Energy Consumption (MWh) 139,550.54 135,935.14 112,810.89 Total GHG Emissions (Scope 1 and Scope 2) (Metric Tons CO2e Key Environmental Indicators36 Based on Xiaomi’s current operations, Xiaomi’s key environmental indicators for 2022 are listed below: 2022 2021 2020 Consumption Total Comprehensive Energy Consumption (MWh)37 144,741.38  144,626.56  118,397.58 Direct Energy Consumption (MWh) 5,190.84 8,691.42 5,586.69 Indirect Energy Consumption (MWh) 139,550.54 135,935.14 112,810.89 Total GHG Emissions (Scope 1 and Scope 2) (Metric Tons CO2e) 85,742.61 82,820.16 66,481.29 Direct GHG Emissions (Scope 1) (Metric Tons CO2e) 7,122.60 9,096.95 8,402.12 Indirect GHG Emissions of Imported Energy (Scope 2) (Metric Tons CO2e) 78,620.01 73,723.21 58,079.17 GHG Emissions (Scope 3) (Metric Tons CO2e) The data is expected to be disclosed in July 2023.', 'document_attributes': {'_source_uri': 'https://*******bucket-eu.s3.eu-west-1.amazonaws.com/kendra-knowledge-database/financial-report/2022_Annual%20Report_ENG_XIAOMI.pdf', 's3_document_id': '2022_Annual Report_ENG_XIAOMI.pdf', '_excerpt_page_number': 159}}), Document(page_content='Document Title: 2022_Annual Report_ENG_XIAOMI.pdf\\nDocument Excerpt: \\nConnected IoT devices as of December 31, 2022, excluding smartphones, tablets, and laptops (2) In December 2022 Year ended December 31, 2022 Total revenue 280.0 RMB billion Smartphone revenue 167.2 RMB billion IoT and lifestyle products revenue 79.8 RMB billion Internet services revenue 28.3 RMB billion Connected IoT devices(1) 589.4 million units MIUI MAU(2) 582.1 million Overseas revenue 49.2% of total revenue Smartphone shipments 150.5 million units CHAIRMAN’S STATEMENT 8 XIAOMI CORPORATION Dear Shareholders, I am pleased to present our annual report for the year ended December 31, 2022 to the shareholders. Business Review and Outlook OVERALL PERFORMANCE SMARTPHONES IoT AND LIFESTYLE PRODUCTS INTERNET SERVICES STRATEGY UPDATES 1. revenue 49.2% of total revenue Smartphone shipments 150.5 million units CHAIRMAN’S STATEMENT 8 XIAOMI CORPORATION Dear Shareholders, I am pleased to present our annual report for the year ended December 31, 2022 to the shareholders. Business Review and Outlook OVERALL PERFORMANCE SMARTPHONES IoT AND LIFESTYLE PRODUCTS INTERNET SERVICES STRATEGY UPDATES 1. Overall performance 2022 was full of challenges, the global economy and industry development was impacted by a variety of factors. According to the International Monetary Fund (“IMF”)1, global economic growth declined to 3.4% in 2022 from 6.2% in 2021. However, amid the challenging macro environment, each of our business segments remained resilient. In 2022, our total revenue amounted to RMB280.0 billion; our adjusted net profit was RMB8.5 billion, which included RMB3.1 billion in expenses related to our smart Electric Vehicle (“EV”) and other new initiatives.\\n', metadata={'result_id': '91538b4c-c45c-4574-a7a8-f4042e31c33a-9463d27a-cdb7-4fa3-9207-700c54e1ace2', 'document_id': 's3://*******bucket-eu/kendra-knowledge-database/financial-report/2022_Annual Report_ENG_XIAOMI.pdf', 'source': 'https://*******bucket-eu.s3.eu-west-1.amazonaws.com/kendra-knowledge-database/financial-report/2022_Annual%20Report_ENG_XIAOMI.pdf', 'title': '2022_Annual Report_ENG_XIAOMI.pdf', 'excerpt': 'Connected IoT devices as of December 31, 2022, excluding smartphones, tablets, and laptops (2) In December 2022 Year ended December 31, 2022 Total revenue 280.0 RMB billion Smartphone revenue 167.2 RMB billion IoT and lifestyle products revenue 79.8 RMB billion Internet services revenue 28.3 RMB billion Connected IoT devices(1) 589.4 million units MIUI MAU(2) 582.1 million Overseas revenue 49.2% of total revenue Smartphone shipments 150.5 million units CHAIRMAN’S STATEMENT 8 XIAOMI CORPORATION Dear Shareholders, I am pleased to present our annual report for the year ended December 31, 2022 to the shareholders. Business Review and Outlook OVERALL PERFORMANCE SMARTPHONES IoT AND LIFESTYLE PRODUCTS INTERNET SERVICES STRATEGY UPDATES 1. revenue 49.2% of total revenue Smartphone shipments 150.5 million units CHAIRMAN’S STATEMENT 8 XIAOMI CORPORATION Dear Shareholders, I am pleased to present our annual report for the year ended December 31, 2022 to the shareholders. Business Review and Outlook OVERALL PERFORMANCE SMARTPHONES IoT AND LIFESTYLE PRODUCTS INTERNET SERVICES STRATEGY UPDATES 1. Overall performance 2022 was full of challenges, the global economy and industry development was impacted by a variety of factors. According to the International Monetary Fund (“IMF”)1, global economic growth declined to 3.4% in 2022 from 6.2% in 2021. However, amid the challenging macro environment, each of our business segments remained resilient. In 2022, our total revenue amounted to RMB280.0 billion; our adjusted net profit was RMB8.5 billion, which included RMB3.1 billion in expenses related to our smart Electric Vehicle (“EV”) and other new initiatives.', 'document_attributes': {'_source_uri': 'https://*******bucket-eu.s3.eu-west-1.amazonaws.com/kendra-knowledge-database/financial-report/2022_Annual%20Report_ENG_XIAOMI.pdf', 's3_document_id': '2022_Annual Report_ENG_XIAOMI.pdf', '_excerpt_page_number': 9}}), Document(page_content='Document Title: 2022_Annual Report_ENG_XIAOMI.pdf\\nDocument Excerpt: \\n12,368,223.29 — Total Water Consumption (Metric Tons)38 510,156.05 463,663.00 303,132.92 Fresh Water Consumption (Metric Tons) 391,953.85 329,572.00 187,339.02 Reclaimed Water Consumption (Metric Tons) 118,202.20 134,091.00 115,793.90 Non-hazardous Waste (Metric Tons) 7,052.28 6,328.88 4,661.07 Hazardous Waste (Metric Tons) 1.43 2.50 0.37 Total Packaging Materials used for Finished Products (Metric Tons)39 5,065.08 — — 35 The key ESG performance indicators listed here include, but not limited to, the same scope as the consolidated corporate statements, and data of the actual operations of the controlling business and facilities in some cases. Numbers and percentage figures in this section have been subject to rounding. performance indicators listed here include, but not limited to, the same scope as the consolidated corporate statements, and data of the actual operations of the controlling business and facilities in some cases. Numbers and percentage figures in this section have been subject to rounding. Any discrepancy between the total and the sum of the amounts listed is due to rounding. 36 The data presented in this chapter has been assured by an independent third-party verification organization. The assurance certificate is available on the Sustainability page of Xiaomi’s Website: https://www.mi.com/global/about/sustainability. 37 The total amount of energy consumption was calculated based on the consumption of purchased electricity, purchased heat, natural gas, and gasoline, using the conversion factors specified in the national standard General Rules for Calculation of the Comprehensive Energy Consumption (GB/T 2589-2020) of the People’s Republic of China.\\n', metadata={'result_id': '91538b4c-c45c-4574-a7a8-f4042e31c33a-facc642c-4f89-4ec9-84ff-2743a113c3f1', 'document_id': 's3://*******bucket-eu/kendra-knowledge-database/financial-report/2022_Annual Report_ENG_XIAOMI.pdf', 'source': 'https://*******bucket-eu.s3.eu-west-1.amazonaws.com/kendra-knowledge-database/financial-report/2022_Annual%20Report_ENG_XIAOMI.pdf', 'title': '2022_Annual Report_ENG_XIAOMI.pdf', 'excerpt': '12,368,223.29 — Total Water Consumption (Metric Tons)38 510,156.05 463,663.00 303,132.92 Fresh Water Consumption (Metric Tons) 391,953.85 329,572.00 187,339.02 Reclaimed Water Consumption (Metric Tons) 118,202.20 134,091.00 115,793.90 Non-hazardous Waste (Metric Tons) 7,052.28 6,328.88 4,661.07 Hazardous Waste (Metric Tons) 1.43 2.50 0.37 Total Packaging Materials used for Finished Products (Metric Tons)39 5,065.08 — — 35 The key ESG performance indicators listed here include, but not limited to, the same scope as the consolidated corporate statements, and data of the actual operations of the controlling business and facilities in some cases. Numbers and percentage figures in this section have been subject to rounding. performance indicators listed here include, but not limited to, the same scope as the consolidated corporate statements, and data of the actual operations of the controlling business and facilities in some cases. Numbers and percentage figures in this section have been subject to rounding. Any discrepancy between the total and the sum of the amounts listed is due to rounding. 36 The data presented in this chapter has been assured by an independent third-party verification organization. The assurance certificate is available on the Sustainability page of Xiaomi’s Website: https://www.mi.com/global/about/sustainability. 37 The total amount of energy consumption was calculated based on the consumption of purchased electricity, purchased heat, natural gas, and gasoline, using the conversion factors specified in the national standard General Rules for Calculation of the Comprehensive Energy Consumption (GB/T 2589-2020) of the People’s Republic of China.', 'document_attributes': {'_source_uri': 'https://*******bucket-eu.s3.eu-west-1.amazonaws.com/kendra-knowledge-database/financial-report/2022_Annual%20Report_ENG_XIAOMI.pdf', 's3_document_id': '2022_Annual Report_ENG_XIAOMI.pdf', '_excerpt_page_number': 159}})]\n"
     ]
    }
   ],
   "source": [
    "print(result['source_documents'])"
   ]
  },
  {
   "cell_type": "code",
   "execution_count": null,
   "id": "a1bfd4e9-3a0c-466f-a997-f9528abb5474",
   "metadata": {},
   "outputs": [],
   "source": []
  }
 ],
 "metadata": {
  "kernelspec": {
   "display_name": "conda_python3",
   "language": "python",
   "name": "conda_python3"
  },
  "language_info": {
   "codemirror_mode": {
    "name": "ipython",
    "version": 3
   },
   "file_extension": ".py",
   "mimetype": "text/x-python",
   "name": "python",
   "nbconvert_exporter": "python",
   "pygments_lexer": "ipython3",
   "version": "3.10.10"
  }
 },
 "nbformat": 4,
 "nbformat_minor": 5
}
